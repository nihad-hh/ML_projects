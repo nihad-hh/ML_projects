{
  "cells": [
    {
      "cell_type": "markdown",
      "metadata": {
        "id": "u7g_vPdEqien"
      },
      "source": [
        "Credits:\n",
        "\n",
        "*Dataset* : [link](https://www.kaggle.com/datasets/muhammadroshaanriaz/time-wasters-on-social-media/data)\n",
        "\n",
        "*Notebooks used as a reference* :\n",
        "* [muhammadroshaanriaz](https://www.kaggle.com/code/muhammadroshaanriaz/eda-digital-time-sink-the-social-media-chronicles)\n",
        "* [Devra AI](https://www.kaggle.com/code/devraai/social-media-usage-and-productivity-analysis)"
      ]
    },
    {
      "cell_type": "code",
      "execution_count": 1,
      "metadata": {
        "id": "lEIlPX6Lqieo"
      },
      "outputs": [],
      "source": [
        "import numpy as np\n",
        "import pandas as pd\n",
        "import seaborn as sns\n",
        "import matplotlib.pyplot as plt"
      ]
    },
    {
      "cell_type": "markdown",
      "metadata": {
        "id": "FEs3Re2xqiep"
      },
      "source": [
        "Steps:\n",
        "1. EDA\n",
        "2. Preprocessing\n",
        "3. Model training\n",
        "4. Model evaluation"
      ]
    },
    {
      "cell_type": "code",
      "execution_count": null,
      "metadata": {
        "execution": {
          "iopub.execute_input": "2024-07-26T08:35:51.920353Z",
          "iopub.status.busy": "2024-07-26T08:35:51.919968Z",
          "iopub.status.idle": "2024-07-26T08:35:51.92709Z",
          "shell.execute_reply": "2024-07-26T08:35:51.925893Z",
          "shell.execute_reply.started": "2024-07-26T08:35:51.920321Z"
        },
        "id": "UHlgkb9Jqieq",
        "trusted": true
      },
      "outputs": [],
      "source": [
        "data_url = \"/kaggle/input/time-wasters-on-social-media/Time-Wasters on Social Media.csv\""
      ]
    },
    {
      "cell_type": "code",
      "execution_count": null,
      "metadata": {
        "execution": {
          "iopub.execute_input": "2024-07-26T08:35:53.750783Z",
          "iopub.status.busy": "2024-07-26T08:35:53.750439Z",
          "iopub.status.idle": "2024-07-26T08:35:53.766917Z",
          "shell.execute_reply": "2024-07-26T08:35:53.765636Z",
          "shell.execute_reply.started": "2024-07-26T08:35:53.750756Z"
        },
        "id": "vzxpZ5RLqieq",
        "trusted": true
      },
      "outputs": [],
      "source": [
        "df = pd.read_csv(data_url)"
      ]
    },
    {
      "cell_type": "markdown",
      "metadata": {
        "id": "SeW4f5jQqier"
      },
      "source": [
        "# 1. EDA"
      ]
    },
    {
      "cell_type": "code",
      "execution_count": null,
      "metadata": {
        "execution": {
          "iopub.execute_input": "2024-07-26T08:37:47.763454Z",
          "iopub.status.busy": "2024-07-26T08:37:47.763058Z",
          "iopub.status.idle": "2024-07-26T08:37:47.784869Z",
          "shell.execute_reply": "2024-07-26T08:37:47.783814Z",
          "shell.execute_reply.started": "2024-07-26T08:37:47.763417Z"
        },
        "id": "aIwZTLJ8qies",
        "trusted": true
      },
      "outputs": [],
      "source": [
        "df.head()"
      ]
    },
    {
      "cell_type": "code",
      "execution_count": null,
      "metadata": {
        "execution": {
          "iopub.execute_input": "2024-07-26T08:36:36.130815Z",
          "iopub.status.busy": "2024-07-26T08:36:36.130452Z",
          "iopub.status.idle": "2024-07-26T08:36:36.152491Z",
          "shell.execute_reply": "2024-07-26T08:36:36.151473Z",
          "shell.execute_reply.started": "2024-07-26T08:36:36.130784Z"
        },
        "id": "RU_tFw_Iqies",
        "trusted": true
      },
      "outputs": [],
      "source": [
        "df.info()"
      ]
    },
    {
      "cell_type": "code",
      "execution_count": null,
      "metadata": {
        "execution": {
          "iopub.execute_input": "2024-07-26T08:37:53.729118Z",
          "iopub.status.busy": "2024-07-26T08:37:53.728705Z",
          "iopub.status.idle": "2024-07-26T08:37:53.782309Z",
          "shell.execute_reply": "2024-07-26T08:37:53.781282Z",
          "shell.execute_reply.started": "2024-07-26T08:37:53.729082Z"
        },
        "id": "VR0F-zJMqiet",
        "trusted": true
      },
      "outputs": [],
      "source": [
        "df.describe().T"
      ]
    },
    {
      "cell_type": "markdown",
      "metadata": {
        "id": "xWbsEKRMqiet"
      },
      "source": [
        "## Distribution of age"
      ]
    },
    {
      "cell_type": "code",
      "execution_count": null,
      "metadata": {
        "execution": {
          "iopub.execute_input": "2024-07-26T08:39:53.225171Z",
          "iopub.status.busy": "2024-07-26T08:39:53.224389Z",
          "iopub.status.idle": "2024-07-26T08:39:53.636109Z",
          "shell.execute_reply": "2024-07-26T08:39:53.63489Z",
          "shell.execute_reply.started": "2024-07-26T08:39:53.225133Z"
        },
        "id": "ooPLwe0cqieu",
        "trusted": true
      },
      "outputs": [],
      "source": [
        "plt.figure(figsize=(12,6))\n",
        "sns.histplot(df['Age'], bins=40, kde=True)\n",
        "plt.title('Age Distribution')\n",
        "plt.show()"
      ]
    },
    {
      "cell_type": "markdown",
      "metadata": {
        "id": "9AxfJWdpqieu"
      },
      "source": [
        "## Gender distribution"
      ]
    },
    {
      "cell_type": "code",
      "execution_count": null,
      "metadata": {
        "execution": {
          "iopub.execute_input": "2024-07-26T08:40:49.155192Z",
          "iopub.status.busy": "2024-07-26T08:40:49.154798Z",
          "iopub.status.idle": "2024-07-26T08:40:49.350707Z",
          "shell.execute_reply": "2024-07-26T08:40:49.349495Z",
          "shell.execute_reply.started": "2024-07-26T08:40:49.155159Z"
        },
        "id": "CpuuXwCqqieu",
        "trusted": true
      },
      "outputs": [],
      "source": [
        "plt.figure(figsize=(12,6))\n",
        "sns.countplot(data=df, x='Gender')\n",
        "plt.title('Gender Distribution')\n",
        "plt.show()"
      ]
    },
    {
      "cell_type": "markdown",
      "metadata": {
        "id": "pX-YYdtfqieu"
      },
      "source": [
        "## Distribution of location"
      ]
    },
    {
      "cell_type": "code",
      "execution_count": null,
      "metadata": {
        "execution": {
          "iopub.execute_input": "2024-07-26T08:41:31.669743Z",
          "iopub.status.busy": "2024-07-26T08:41:31.669004Z",
          "iopub.status.idle": "2024-07-26T08:41:31.942358Z",
          "shell.execute_reply": "2024-07-26T08:41:31.941354Z",
          "shell.execute_reply.started": "2024-07-26T08:41:31.669704Z"
        },
        "id": "2w4rmMXwqiev",
        "trusted": true
      },
      "outputs": [],
      "source": [
        "plt.figure(figsize=(12,6))\n",
        "sns.countplot(data=df, x='Location')\n",
        "plt.title('Location Distribution')\n",
        "plt.show()"
      ]
    },
    {
      "cell_type": "markdown",
      "metadata": {
        "id": "inouBDcHqiev"
      },
      "source": [
        "## Income distribution"
      ]
    },
    {
      "cell_type": "code",
      "execution_count": null,
      "metadata": {
        "execution": {
          "iopub.execute_input": "2024-07-26T08:42:36.478786Z",
          "iopub.status.busy": "2024-07-26T08:42:36.477722Z",
          "iopub.status.idle": "2024-07-26T08:42:36.963014Z",
          "shell.execute_reply": "2024-07-26T08:42:36.961749Z",
          "shell.execute_reply.started": "2024-07-26T08:42:36.478741Z"
        },
        "id": "ayfjzlrBqiev",
        "trusted": true
      },
      "outputs": [],
      "source": [
        "plt.figure(figsize=(12,6))\n",
        "sns.histplot(df['Income'], bins=40, kde=True)\n",
        "plt.title('Income Distribution')\n",
        "plt.show()"
      ]
    },
    {
      "cell_type": "markdown",
      "metadata": {
        "id": "Afe1KbMiqiev"
      },
      "source": [
        "## Distribution of debt"
      ]
    },
    {
      "cell_type": "code",
      "execution_count": null,
      "metadata": {
        "execution": {
          "iopub.execute_input": "2024-07-26T08:44:05.680015Z",
          "iopub.status.busy": "2024-07-26T08:44:05.679645Z",
          "iopub.status.idle": "2024-07-26T08:44:05.923556Z",
          "shell.execute_reply": "2024-07-26T08:44:05.922462Z",
          "shell.execute_reply.started": "2024-07-26T08:44:05.679987Z"
        },
        "id": "cs8NZl6lqiev",
        "trusted": true
      },
      "outputs": [],
      "source": [
        "plt.figure(figsize=(12,6))\n",
        "sns.countplot(data = df, x = \"Debt\")\n",
        "plt.title('Debt count')\n",
        "plt.show()"
      ]
    },
    {
      "cell_type": "markdown",
      "metadata": {
        "id": "fHl8Xi_tqiew"
      },
      "source": [
        "## Property ownership"
      ]
    },
    {
      "cell_type": "code",
      "execution_count": null,
      "metadata": {
        "execution": {
          "iopub.execute_input": "2024-07-26T08:44:32.432574Z",
          "iopub.status.busy": "2024-07-26T08:44:32.432177Z",
          "iopub.status.idle": "2024-07-26T08:44:32.654266Z",
          "shell.execute_reply": "2024-07-26T08:44:32.653187Z",
          "shell.execute_reply.started": "2024-07-26T08:44:32.432541Z"
        },
        "id": "uAZoNT_wqiew",
        "trusted": true
      },
      "outputs": [],
      "source": [
        "plt.figure(figsize=(12,6))\n",
        "sns.countplot(data=df, x='Owns Property')\n",
        "plt.title('Property Ownership')\n",
        "plt.show()"
      ]
    },
    {
      "cell_type": "markdown",
      "metadata": {
        "id": "jqRKmKH0qiew"
      },
      "source": [
        "## Distribution of platforms"
      ]
    },
    {
      "cell_type": "code",
      "execution_count": null,
      "metadata": {
        "execution": {
          "iopub.execute_input": "2024-07-26T08:45:31.559724Z",
          "iopub.status.busy": "2024-07-26T08:45:31.558678Z",
          "iopub.status.idle": "2024-07-26T08:45:31.758947Z",
          "shell.execute_reply": "2024-07-26T08:45:31.757963Z",
          "shell.execute_reply.started": "2024-07-26T08:45:31.559686Z"
        },
        "id": "oXKm54Fqqiew",
        "trusted": true
      },
      "outputs": [],
      "source": [
        "plt.figure(figsize=(12,6))\n",
        "sns.countplot(data=df, x='Platform')\n",
        "plt.title('Platform Usage Distribution')\n",
        "plt.show()"
      ]
    },
    {
      "cell_type": "markdown",
      "metadata": {
        "id": "lnSsudlpqiew"
      },
      "source": [
        "## Distribution of Frequency"
      ]
    },
    {
      "cell_type": "code",
      "execution_count": null,
      "metadata": {
        "execution": {
          "iopub.execute_input": "2024-07-26T09:09:36.268611Z",
          "iopub.status.busy": "2024-07-26T09:09:36.267813Z",
          "iopub.status.idle": "2024-07-26T09:09:36.539887Z",
          "shell.execute_reply": "2024-07-26T09:09:36.538316Z",
          "shell.execute_reply.started": "2024-07-26T09:09:36.268572Z"
        },
        "id": "ayhNksyvqiew",
        "trusted": true
      },
      "outputs": [],
      "source": [
        "plt.figure(figsize=(12,6))\n",
        "sns.countplot(data=df, x='Frequency')\n",
        "plt.title('Distribution of Frequency')\n",
        "plt.show()"
      ]
    },
    {
      "cell_type": "markdown",
      "metadata": {
        "id": "lIsL5BF-qiex"
      },
      "source": [
        "## Total Time Spent on Social Media"
      ]
    },
    {
      "cell_type": "code",
      "execution_count": null,
      "metadata": {
        "execution": {
          "iopub.execute_input": "2024-07-26T08:46:37.511229Z",
          "iopub.status.busy": "2024-07-26T08:46:37.510461Z",
          "iopub.status.idle": "2024-07-26T08:46:37.882714Z",
          "shell.execute_reply": "2024-07-26T08:46:37.881616Z",
          "shell.execute_reply.started": "2024-07-26T08:46:37.511191Z"
        },
        "id": "ab64eypQqiex",
        "trusted": true
      },
      "outputs": [],
      "source": [
        "plt.figure(figsize=(12,6))\n",
        "sns.histplot(df['Total Time Spent'], bins=40, kde=True)\n",
        "plt.title('Total Time Spent on Social Media')\n",
        "plt.show()"
      ]
    },
    {
      "cell_type": "markdown",
      "metadata": {
        "id": "2cnKXtNLqiex"
      },
      "source": [
        "### Bivariate Analysis"
      ]
    },
    {
      "cell_type": "markdown",
      "metadata": {
        "id": "7V5HVlWbqiex"
      },
      "source": [
        "## Relationship between Total Time Spent and Productivity Loss"
      ]
    },
    {
      "cell_type": "code",
      "execution_count": null,
      "metadata": {
        "execution": {
          "iopub.execute_input": "2024-07-26T08:49:20.025545Z",
          "iopub.status.busy": "2024-07-26T08:49:20.025126Z",
          "iopub.status.idle": "2024-07-26T08:49:20.333421Z",
          "shell.execute_reply": "2024-07-26T08:49:20.332351Z",
          "shell.execute_reply.started": "2024-07-26T08:49:20.025512Z"
        },
        "id": "jD6zOOA7qiex",
        "trusted": true
      },
      "outputs": [],
      "source": [
        "plt.figure(figsize=(12,6))\n",
        "sns.scatterplot(data=df, x='Total Time Spent', y='ProductivityLoss')\n",
        "plt.title('Total Time Spent vs Productivity Loss')\n",
        "plt.show()"
      ]
    },
    {
      "cell_type": "markdown",
      "metadata": {
        "id": "QpK1t74rqiex"
      },
      "source": [
        "## Satisfaction level based on the platform"
      ]
    },
    {
      "cell_type": "code",
      "execution_count": null,
      "metadata": {
        "execution": {
          "iopub.execute_input": "2024-07-26T08:50:11.984417Z",
          "iopub.status.busy": "2024-07-26T08:50:11.984043Z",
          "iopub.status.idle": "2024-07-26T08:50:12.240467Z",
          "shell.execute_reply": "2024-07-26T08:50:12.239311Z",
          "shell.execute_reply.started": "2024-07-26T08:50:11.984374Z"
        },
        "id": "VfJzZwQbqiey",
        "trusted": true
      },
      "outputs": [],
      "source": [
        "plt.figure(figsize=(12,6))\n",
        "sns.boxplot(data=df, x='Platform', y='Satisfaction')\n",
        "plt.title('Satisfaction Levels by Platform')\n",
        "plt.show()"
      ]
    },
    {
      "cell_type": "markdown",
      "metadata": {
        "id": "m43ywOfsqiey"
      },
      "source": [
        "## Correlation heatmap"
      ]
    },
    {
      "cell_type": "code",
      "execution_count": null,
      "metadata": {
        "execution": {
          "iopub.execute_input": "2024-07-26T09:34:27.6545Z",
          "iopub.status.busy": "2024-07-26T09:34:27.65408Z",
          "iopub.status.idle": "2024-07-26T09:34:28.684873Z",
          "shell.execute_reply": "2024-07-26T09:34:28.683841Z",
          "shell.execute_reply.started": "2024-07-26T09:34:27.654467Z"
        },
        "id": "WBo2Hh_cqiey",
        "trusted": true
      },
      "outputs": [],
      "source": [
        "# Select only numeric columns\n",
        "numeric_df = df.select_dtypes(include=[np.number])\n",
        "\n",
        "# Plot the correlation heatmap\n",
        "plt.figure(figsize=(14, 10))\n",
        "sns.heatmap(numeric_df.corr(), annot=True, cmap='coolwarm', fmt='.2f')\n",
        "plt.title('Correlation Heatmap')\n",
        "plt.show()"
      ]
    },
    {
      "cell_type": "markdown",
      "metadata": {
        "id": "lxvK3RYvqie1"
      },
      "source": [
        "## Finding the biggest productivity loss by time of the day"
      ]
    },
    {
      "cell_type": "code",
      "execution_count": null,
      "metadata": {
        "execution": {
          "iopub.execute_input": "2024-07-26T09:13:05.517502Z",
          "iopub.status.busy": "2024-07-26T09:13:05.517131Z",
          "iopub.status.idle": "2024-07-26T09:13:05.524446Z",
          "shell.execute_reply": "2024-07-26T09:13:05.523257Z",
          "shell.execute_reply.started": "2024-07-26T09:13:05.517473Z"
        },
        "id": "5Gn8aqFLqie1",
        "trusted": true
      },
      "outputs": [],
      "source": [
        "frequency_productivity_loss = df.groupby('Frequency')['ProductivityLoss'].mean().reset_index()"
      ]
    },
    {
      "cell_type": "code",
      "execution_count": null,
      "metadata": {
        "execution": {
          "iopub.execute_input": "2024-07-26T09:13:40.34473Z",
          "iopub.status.busy": "2024-07-26T09:13:40.344327Z",
          "iopub.status.idle": "2024-07-26T09:13:40.350587Z",
          "shell.execute_reply": "2024-07-26T09:13:40.349369Z",
          "shell.execute_reply.started": "2024-07-26T09:13:40.344696Z"
        },
        "id": "BKnT8Y06qie1",
        "trusted": true
      },
      "outputs": [],
      "source": [
        "# Sorting the values to find the biggest productivity loss\n",
        "frequency_productivity_loss = frequency_productivity_loss.sort_values(by='ProductivityLoss', ascending=False)"
      ]
    },
    {
      "cell_type": "code",
      "execution_count": null,
      "metadata": {
        "execution": {
          "iopub.execute_input": "2024-07-26T09:13:53.360013Z",
          "iopub.status.busy": "2024-07-26T09:13:53.359287Z",
          "iopub.status.idle": "2024-07-26T09:13:53.579524Z",
          "shell.execute_reply": "2024-07-26T09:13:53.578477Z",
          "shell.execute_reply.started": "2024-07-26T09:13:53.359974Z"
        },
        "id": "4DNpootaqie1",
        "trusted": true
      },
      "outputs": [],
      "source": [
        "# Displaying the results\n",
        "print(frequency_productivity_loss)\n",
        "\n",
        "# The results\n",
        "plt.figure(figsize=(12,6))\n",
        "plt.bar(frequency_productivity_loss['Frequency'], frequency_productivity_loss['ProductivityLoss'], color=['red', 'orange', 'yellow', 'green'])\n",
        "plt.xlabel('Frequency')\n",
        "plt.ylabel('Average Productivity Loss')\n",
        "plt.title('Average Productivity Loss by Time of Day')\n",
        "plt.show()"
      ]
    },
    {
      "cell_type": "markdown",
      "metadata": {
        "id": "qgAPJZ0pqie1"
      },
      "source": [
        "# Preprocessing\n"
      ]
    },
    {
      "cell_type": "code",
      "execution_count": null,
      "metadata": {
        "execution": {
          "iopub.execute_input": "2024-07-26T10:09:58.011564Z",
          "iopub.status.busy": "2024-07-26T10:09:58.011155Z",
          "iopub.status.idle": "2024-07-26T10:09:58.018661Z",
          "shell.execute_reply": "2024-07-26T10:09:58.017438Z",
          "shell.execute_reply.started": "2024-07-26T10:09:58.011532Z"
        },
        "id": "t32zFp9cqie1",
        "trusted": true
      },
      "outputs": [],
      "source": [
        "'''\n",
        "columns_hand_picked = ['Age', 'Gender', 'Income', 'Owns Property', 'Profession', 'Demographics', 'Platform',\n",
        "       'Total Time Spent', 'Frequency', 'ProductivityLoss']\n",
        "columns_w_drops = df.columns.drop(['UserID', 'Debt', 'Satisfaction', 'Self Control', 'Addiction Level'])\n",
        "all_columns = df.columns.drop(['UserID', \"Debt\"])\n",
        "\n",
        "columns_types = [columns_hand_picked, columns_w_drops, all_columns]\n",
        "\n",
        "y_columns = [\"Debt\"]\n",
        "'''"
      ]
    },
    {
      "cell_type": "code",
      "execution_count": null,
      "metadata": {
        "execution": {
          "iopub.execute_input": "2024-07-26T10:20:10.328268Z",
          "iopub.status.busy": "2024-07-26T10:20:10.327834Z",
          "iopub.status.idle": "2024-07-26T10:20:10.334074Z",
          "shell.execute_reply": "2024-07-26T10:20:10.332989Z",
          "shell.execute_reply.started": "2024-07-26T10:20:10.328235Z"
        },
        "id": "BdEDWZC8qie2",
        "trusted": true
      },
      "outputs": [],
      "source": [
        "X_int = df.select_dtypes(include=['int64'])\n",
        "y_columns = [\"Debt\"]"
      ]
    },
    {
      "cell_type": "code",
      "execution_count": null,
      "metadata": {
        "execution": {
          "iopub.execute_input": "2024-07-26T10:18:15.391083Z",
          "iopub.status.busy": "2024-07-26T10:18:15.390706Z",
          "iopub.status.idle": "2024-07-26T10:18:15.399313Z",
          "shell.execute_reply": "2024-07-26T10:18:15.398201Z",
          "shell.execute_reply.started": "2024-07-26T10:18:15.391052Z"
        },
        "id": "FPH5Na5_qie2",
        "trusted": true
      },
      "outputs": [],
      "source": [
        "from sklearn.compose import ColumnTransformer\n",
        "from sklearn.preprocessing import OneHotEncoder\n",
        "'''\n",
        "ct = ColumnTransformer(transformers=[(\"encoder\", OneHotEncoder(), [0])] , remainder=\"passthrough\")\n",
        "\n",
        "X = [];\n",
        "\n",
        "for columns_type in columns_types:\n",
        "    X_tmp = df[columns_type];\n",
        "    X_tmp = ct.fit_transform(pd.get_dummies(X_tmp))\n",
        "    X.append(np.array(X_tmp))\n",
        "\n",
        "y = df[y_columns]\n",
        "'''"
      ]
    },
    {
      "cell_type": "markdown",
      "metadata": {
        "id": "-bV7m64Vqie2"
      },
      "source": [
        "# Model training"
      ]
    },
    {
      "cell_type": "code",
      "execution_count": null,
      "metadata": {
        "execution": {
          "iopub.execute_input": "2024-07-26T10:18:26.656743Z",
          "iopub.status.busy": "2024-07-26T10:18:26.65635Z",
          "iopub.status.idle": "2024-07-26T10:18:26.661685Z",
          "shell.execute_reply": "2024-07-26T10:18:26.660658Z",
          "shell.execute_reply.started": "2024-07-26T10:18:26.656712Z"
        },
        "id": "QPMZUgVyqie2",
        "trusted": true
      },
      "outputs": [],
      "source": [
        "from sklearn.model_selection import train_test_split\n",
        "from sklearn.linear_model import LogisticRegression\n",
        "from sklearn.metrics import accuracy_score, confusion_matrix, classification_report"
      ]
    },
    {
      "cell_type": "code",
      "execution_count": null,
      "metadata": {
        "execution": {
          "iopub.execute_input": "2024-07-26T10:20:30.984774Z",
          "iopub.status.busy": "2024-07-26T10:20:30.983839Z",
          "iopub.status.idle": "2024-07-26T10:20:32.431452Z",
          "shell.execute_reply": "2024-07-26T10:20:32.430262Z",
          "shell.execute_reply.started": "2024-07-26T10:20:30.984727Z"
        },
        "id": "yB6tReQkqie2",
        "trusted": true
      },
      "outputs": [],
      "source": [
        "X = X_int\n",
        "y = df[y_columns]\n",
        "\n",
        "X_train, X_test, y_train, y_test = train_test_split(X, y, test_size=0.3, random_state=42)\n",
        "\n",
        "model = LogisticRegression(max_iter=10000)\n",
        "model.fit(X_train, y_train)"
      ]
    },
    {
      "cell_type": "code",
      "execution_count": null,
      "metadata": {
        "execution": {
          "iopub.execute_input": "2024-07-26T10:21:44.961808Z",
          "iopub.status.busy": "2024-07-26T10:21:44.960736Z",
          "iopub.status.idle": "2024-07-26T10:21:44.968128Z",
          "shell.execute_reply": "2024-07-26T10:21:44.966997Z",
          "shell.execute_reply.started": "2024-07-26T10:21:44.961766Z"
        },
        "id": "RMDaKO22qie2",
        "trusted": true
      },
      "outputs": [],
      "source": [
        "'''\n",
        "for X_type in X:\n",
        "\n",
        "    X_train, X_test, y_train, y_test = train_test_split(X_type, y, test_size=0.3, random_state=42)\n",
        "\n",
        "    model = LogisticRegression(max_iter=10000)\n",
        "    model.fit(X_train, y_train)\n",
        "\n",
        "    y_pred = model.predict(X_test)\n",
        "\n",
        "    accuracy = accuracy_score(y_test, y_pred)\n",
        "\n",
        "    accuracy\n",
        "'''"
      ]
    },
    {
      "cell_type": "markdown",
      "metadata": {
        "id": "K-xWgIhhqie2"
      },
      "source": [
        "# Model evaluation"
      ]
    },
    {
      "cell_type": "code",
      "execution_count": null,
      "metadata": {
        "execution": {
          "iopub.execute_input": "2024-07-26T10:21:42.439248Z",
          "iopub.status.busy": "2024-07-26T10:21:42.438525Z",
          "iopub.status.idle": "2024-07-26T10:21:42.452984Z",
          "shell.execute_reply": "2024-07-26T10:21:42.451919Z",
          "shell.execute_reply.started": "2024-07-26T10:21:42.439212Z"
        },
        "id": "gR5PTljgqie2",
        "trusted": true
      },
      "outputs": [],
      "source": [
        "y_pred = model.predict(X_test)\n",
        "\n",
        "accuracy = accuracy_score(y_test, y_pred)\n",
        "\n",
        "accuracy"
      ]
    }
  ],
  "metadata": {
    "colab": {
      "provenance": []
    },
    "kaggle": {
      "accelerator": "none",
      "dataSources": [
        {
          "datasetId": 5356905,
          "sourceId": 8909196,
          "sourceType": "datasetVersion"
        }
      ],
      "dockerImageVersionId": 30746,
      "isGpuEnabled": false,
      "isInternetEnabled": false,
      "language": "python",
      "sourceType": "notebook"
    },
    "kernelspec": {
      "display_name": "Python 3",
      "language": "python",
      "name": "python3"
    },
    "language_info": {
      "codemirror_mode": {
        "name": "ipython",
        "version": 3
      },
      "file_extension": ".py",
      "mimetype": "text/x-python",
      "name": "python",
      "nbconvert_exporter": "python",
      "pygments_lexer": "ipython3",
      "version": "3.10.12"
    }
  },
  "nbformat": 4,
  "nbformat_minor": 0
}
