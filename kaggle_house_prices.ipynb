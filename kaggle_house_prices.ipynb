{
  "metadata": {
    "kernelspec": {
      "language": "python",
      "display_name": "Python 3",
      "name": "python3"
    },
    "language_info": {
      "name": "python",
      "version": "3.10.13",
      "mimetype": "text/x-python",
      "codemirror_mode": {
        "name": "ipython",
        "version": 3
      },
      "pygments_lexer": "ipython3",
      "nbconvert_exporter": "python",
      "file_extension": ".py"
    },
    "kaggle": {
      "accelerator": "none",
      "dataSources": [
        {
          "sourceId": 5407,
          "databundleVersionId": 868283,
          "sourceType": "competition"
        }
      ],
      "dockerImageVersionId": 30746,
      "isInternetEnabled": false,
      "language": "python",
      "sourceType": "notebook",
      "isGpuEnabled": false
    },
    "colab": {
      "provenance": []
    }
  },
  "nbformat_minor": 0,
  "nbformat": 4,
  "cells": [
    {
      "source": [
        "\n",
        "# IMPORTANT: RUN THIS CELL IN ORDER TO IMPORT YOUR KAGGLE DATA SOURCES\n",
        "# TO THE CORRECT LOCATION (/kaggle/input) IN YOUR NOTEBOOK,\n",
        "# THEN FEEL FREE TO DELETE THIS CELL.\n",
        "# NOTE: THIS NOTEBOOK ENVIRONMENT DIFFERS FROM KAGGLE'S PYTHON\n",
        "# ENVIRONMENT SO THERE MAY BE MISSING LIBRARIES USED BY YOUR\n",
        "# NOTEBOOK.\n",
        "\n",
        "import os\n",
        "import sys\n",
        "from tempfile import NamedTemporaryFile\n",
        "from urllib.request import urlopen\n",
        "from urllib.parse import unquote, urlparse\n",
        "from urllib.error import HTTPError\n",
        "from zipfile import ZipFile\n",
        "import tarfile\n",
        "import shutil\n",
        "\n",
        "CHUNK_SIZE = 40960\n",
        "DATA_SOURCE_MAPPING = 'house-prices-advanced-regression-techniques:https%3A%2F%2Fstorage.googleapis.com%2Fkaggle-competitions-data%2Fkaggle-v2%2F5407%2F868283%2Fbundle%2Farchive.zip%3FX-Goog-Algorithm%3DGOOG4-RSA-SHA256%26X-Goog-Credential%3Dgcp-kaggle-com%2540kaggle-161607.iam.gserviceaccount.com%252F20240821%252Fauto%252Fstorage%252Fgoog4_request%26X-Goog-Date%3D20240821T112103Z%26X-Goog-Expires%3D259200%26X-Goog-SignedHeaders%3Dhost%26X-Goog-Signature%3D9ef080e2973d73840f3b7744419b5d1f174c6443bd0e81488c73820c1d0f5223363d78ad612efba68912c37e16b15d68de5545ca596711b75ac7b3979af96ee36dc6e55ba88cea0ddea572fe8eecfb1b8cea4076f792693275cdcf447c845089a1ecb6881ddba454d71cca2a984a09520c7c3e4c84ac3b38cd588d34a65256778369867bf8ae1f65a322571560c19cf9d9a2e65b2556fdcebce1b00494483a822505089e2ddd123d765d2d78c68da6a665206cc45cccef16b2e2a7f7ab8c99131a024c220bafc6961c03171326bd53d6436e507170a8530ec45882e11ac579518e587dd0a54d1cbe03addfc48076063b4c492392d378f32c3d82c4180763f712'\n",
        "\n",
        "KAGGLE_INPUT_PATH='/kaggle/input'\n",
        "KAGGLE_WORKING_PATH='/kaggle/working'\n",
        "KAGGLE_SYMLINK='kaggle'\n",
        "\n",
        "!umount /kaggle/input/ 2> /dev/null\n",
        "shutil.rmtree('/kaggle/input', ignore_errors=True)\n",
        "os.makedirs(KAGGLE_INPUT_PATH, 0o777, exist_ok=True)\n",
        "os.makedirs(KAGGLE_WORKING_PATH, 0o777, exist_ok=True)\n",
        "\n",
        "try:\n",
        "  os.symlink(KAGGLE_INPUT_PATH, os.path.join(\"..\", 'input'), target_is_directory=True)\n",
        "except FileExistsError:\n",
        "  pass\n",
        "try:\n",
        "  os.symlink(KAGGLE_WORKING_PATH, os.path.join(\"..\", 'working'), target_is_directory=True)\n",
        "except FileExistsError:\n",
        "  pass\n",
        "\n",
        "for data_source_mapping in DATA_SOURCE_MAPPING.split(','):\n",
        "    directory, download_url_encoded = data_source_mapping.split(':')\n",
        "    download_url = unquote(download_url_encoded)\n",
        "    filename = urlparse(download_url).path\n",
        "    destination_path = os.path.join(KAGGLE_INPUT_PATH, directory)\n",
        "    try:\n",
        "        with urlopen(download_url) as fileres, NamedTemporaryFile() as tfile:\n",
        "            total_length = fileres.headers['content-length']\n",
        "            print(f'Downloading {directory}, {total_length} bytes compressed')\n",
        "            dl = 0\n",
        "            data = fileres.read(CHUNK_SIZE)\n",
        "            while len(data) > 0:\n",
        "                dl += len(data)\n",
        "                tfile.write(data)\n",
        "                done = int(50 * dl / int(total_length))\n",
        "                sys.stdout.write(f\"\\r[{'=' * done}{' ' * (50-done)}] {dl} bytes downloaded\")\n",
        "                sys.stdout.flush()\n",
        "                data = fileres.read(CHUNK_SIZE)\n",
        "            if filename.endswith('.zip'):\n",
        "              with ZipFile(tfile) as zfile:\n",
        "                zfile.extractall(destination_path)\n",
        "            else:\n",
        "              with tarfile.open(tfile.name) as tarfile:\n",
        "                tarfile.extractall(destination_path)\n",
        "            print(f'\\nDownloaded and uncompressed: {directory}')\n",
        "    except HTTPError as e:\n",
        "        print(f'Failed to load (likely expired) {download_url} to path {destination_path}')\n",
        "        continue\n",
        "    except OSError as e:\n",
        "        print(f'Failed to load {download_url} to path {destination_path}')\n",
        "        continue\n",
        "\n",
        "print('Data source import complete.')\n"
      ],
      "metadata": {
        "id": "af7YHu9Vqz72",
        "colab": {
          "base_uri": "https://localhost:8080/"
        },
        "outputId": "72bee059-d236-44dd-d71d-b84c58da46af"
      },
      "cell_type": "code",
      "outputs": [
        {
          "output_type": "stream",
          "name": "stdout",
          "text": [
            "Downloading house-prices-advanced-regression-techniques, 203809 bytes compressed\n",
            "[==================================================] 203809 bytes downloaded\n",
            "Downloaded and uncompressed: house-prices-advanced-regression-techniques\n",
            "Data source import complete.\n"
          ]
        }
      ],
      "execution_count": 1
    },
    {
      "cell_type": "code",
      "source": [
        "import numpy as np # linear algebra\n",
        "import pandas as pd # data processing, CSV file I/O (e.g. pd.read_csv)\n",
        "\n",
        "import os\n",
        "for dirname, _, filenames in os.walk('/kaggle/input'):\n",
        "    for filename in filenames:\n",
        "        print(os.path.join(dirname, filename))"
      ],
      "metadata": {
        "_uuid": "8f2839f25d086af736a60e9eeb907d3b93b6e0e5",
        "_cell_guid": "b1076dfc-b9ad-4769-8c92-a6c4dae69d19",
        "execution": {
          "iopub.status.busy": "2024-07-16T13:19:42.858282Z",
          "iopub.execute_input": "2024-07-16T13:19:42.859563Z",
          "iopub.status.idle": "2024-07-16T13:19:44.336776Z",
          "shell.execute_reply.started": "2024-07-16T13:19:42.859507Z",
          "shell.execute_reply": "2024-07-16T13:19:44.335569Z"
        },
        "trusted": true,
        "id": "sYcdqNo1qz76",
        "colab": {
          "base_uri": "https://localhost:8080/"
        },
        "outputId": "1824b457-89e7-423e-eaf2-517f00e04eac"
      },
      "execution_count": 2,
      "outputs": [
        {
          "output_type": "stream",
          "name": "stdout",
          "text": [
            "/kaggle/input/house-prices-advanced-regression-techniques/train.csv\n",
            "/kaggle/input/house-prices-advanced-regression-techniques/test.csv\n",
            "/kaggle/input/house-prices-advanced-regression-techniques/sample_submission.csv\n",
            "/kaggle/input/house-prices-advanced-regression-techniques/data_description.txt\n"
          ]
        }
      ]
    },
    {
      "cell_type": "markdown",
      "source": [
        "# Notebook description\n",
        "**Goal** : use data preprocessing and data engineering to improve results.\n",
        "\n",
        "Used only 1 regressor (XGBoost), just iterate on the data preprocessing to improve the result.\n",
        "\n",
        "**Future plan:** After improving data preprocessing and feature engineering, use it on different regressors.\n",
        "\n",
        "MSE changes:\n",
        "\n",
        "1. 0.00018350863778397952 (no feature engineering)\n",
        "2. 0.0001883511693566672 (no feature engineering + pca)\n",
        "3. 0.021290293756569583 (feature engineering + pca)\n",
        "\n"
      ],
      "metadata": {
        "id": "XhJRPF_Sqz77"
      }
    },
    {
      "cell_type": "markdown",
      "source": [
        "# Importing the dataset"
      ],
      "metadata": {
        "id": "7BJDO0pXqz7-"
      }
    },
    {
      "cell_type": "code",
      "source": [
        "df_train = pd.read_csv(\"/kaggle/input/house-prices-advanced-regression-techniques/train.csv\")\n",
        "df_test = pd.read_csv(\"/kaggle/input/house-prices-advanced-regression-techniques/test.csv\")"
      ],
      "metadata": {
        "execution": {
          "iopub.status.busy": "2024-07-16T13:19:44.33888Z",
          "iopub.execute_input": "2024-07-16T13:19:44.339393Z",
          "iopub.status.idle": "2024-07-16T13:19:44.449899Z",
          "shell.execute_reply.started": "2024-07-16T13:19:44.339356Z",
          "shell.execute_reply": "2024-07-16T13:19:44.44847Z"
        },
        "trusted": true,
        "id": "Xo55cEwgqz7-"
      },
      "execution_count": 3,
      "outputs": []
    },
    {
      "cell_type": "code",
      "source": [
        "# splitting train dataset into training and test dataset\n",
        "from sklearn.model_selection import train_test_split\n",
        "\n",
        "X_train = df_train.drop(\"SalePrice\", axis = 1)\n",
        "y_train = np.log(df_train[\"SalePrice\"])"
      ],
      "metadata": {
        "execution": {
          "iopub.status.busy": "2024-07-16T13:19:44.451822Z",
          "iopub.execute_input": "2024-07-16T13:19:44.452314Z",
          "iopub.status.idle": "2024-07-16T13:19:46.23408Z",
          "shell.execute_reply.started": "2024-07-16T13:19:44.452266Z",
          "shell.execute_reply": "2024-07-16T13:19:46.232555Z"
        },
        "trusted": true,
        "id": "94IbTEI7qz7_"
      },
      "execution_count": 4,
      "outputs": []
    },
    {
      "cell_type": "markdown",
      "source": [
        "# Data exploration"
      ],
      "metadata": {
        "id": "cEExvht-qz8A"
      }
    },
    {
      "cell_type": "code",
      "source": [
        "df_train.shape"
      ],
      "metadata": {
        "execution": {
          "iopub.status.busy": "2024-07-16T13:19:46.237385Z",
          "iopub.execute_input": "2024-07-16T13:19:46.237833Z",
          "iopub.status.idle": "2024-07-16T13:19:46.24724Z",
          "shell.execute_reply.started": "2024-07-16T13:19:46.237795Z",
          "shell.execute_reply": "2024-07-16T13:19:46.245874Z"
        },
        "trusted": true,
        "id": "-tbJSGYbqz8A"
      },
      "execution_count": null,
      "outputs": []
    },
    {
      "cell_type": "code",
      "source": [
        "df_train.describe().T"
      ],
      "metadata": {
        "execution": {
          "iopub.status.busy": "2024-07-16T13:19:46.249051Z",
          "iopub.execute_input": "2024-07-16T13:19:46.250296Z",
          "iopub.status.idle": "2024-07-16T13:19:46.394796Z",
          "shell.execute_reply.started": "2024-07-16T13:19:46.250245Z",
          "shell.execute_reply": "2024-07-16T13:19:46.393498Z"
        },
        "trusted": true,
        "id": "Ku5YT5h0qz8B"
      },
      "execution_count": null,
      "outputs": []
    },
    {
      "cell_type": "code",
      "source": [
        "import matplotlib.pyplot as plt\n",
        "\n",
        "sale_price = df_train[\"SalePrice\"]\n",
        "plt.hist(sale_price, bins=50, edgecolor='black')\n",
        "plt.title('Sale price histogram')\n",
        "plt.xlabel('Value')\n",
        "plt.ylabel('Frequency')\n",
        "plt.show()"
      ],
      "metadata": {
        "execution": {
          "iopub.status.busy": "2024-07-16T13:19:46.396504Z",
          "iopub.execute_input": "2024-07-16T13:19:46.396899Z",
          "iopub.status.idle": "2024-07-16T13:19:46.942123Z",
          "shell.execute_reply.started": "2024-07-16T13:19:46.396867Z",
          "shell.execute_reply": "2024-07-16T13:19:46.940808Z"
        },
        "trusted": true,
        "id": "XrTRQ6eaqz8B"
      },
      "execution_count": null,
      "outputs": []
    },
    {
      "cell_type": "code",
      "source": [
        "sale_price.describe()"
      ],
      "metadata": {
        "execution": {
          "iopub.status.busy": "2024-07-16T13:19:46.943879Z",
          "iopub.execute_input": "2024-07-16T13:19:46.944386Z",
          "iopub.status.idle": "2024-07-16T13:19:46.959671Z",
          "shell.execute_reply.started": "2024-07-16T13:19:46.944342Z",
          "shell.execute_reply": "2024-07-16T13:19:46.957579Z"
        },
        "trusted": true,
        "id": "1AX9gXweqz8B"
      },
      "execution_count": null,
      "outputs": []
    },
    {
      "cell_type": "code",
      "source": [
        "log_sale_price = np.log(sale_price)\n",
        "plt.hist(log_sale_price, bins=50, edgecolor='black')\n",
        "plt.title('Log sale price Histogram')\n",
        "plt.xlabel('Value')\n",
        "plt.ylabel('Frequency')\n",
        "plt.show()"
      ],
      "metadata": {
        "execution": {
          "iopub.status.busy": "2024-07-16T13:19:46.961561Z",
          "iopub.execute_input": "2024-07-16T13:19:46.962311Z",
          "iopub.status.idle": "2024-07-16T13:19:47.375463Z",
          "shell.execute_reply.started": "2024-07-16T13:19:46.962246Z",
          "shell.execute_reply": "2024-07-16T13:19:47.37399Z"
        },
        "trusted": true,
        "id": "ZNL6kjXAqz8C"
      },
      "execution_count": null,
      "outputs": []
    },
    {
      "cell_type": "code",
      "source": [
        "log_sale_price.describe()"
      ],
      "metadata": {
        "execution": {
          "iopub.status.busy": "2024-07-16T13:19:47.377592Z",
          "iopub.execute_input": "2024-07-16T13:19:47.378033Z",
          "iopub.status.idle": "2024-07-16T13:19:47.393017Z",
          "shell.execute_reply.started": "2024-07-16T13:19:47.377988Z",
          "shell.execute_reply": "2024-07-16T13:19:47.391104Z"
        },
        "trusted": true,
        "id": "iFBo8S4nqz8C"
      },
      "execution_count": null,
      "outputs": []
    },
    {
      "cell_type": "markdown",
      "source": [
        "# Data preprocessing"
      ],
      "metadata": {
        "id": "ELmxbNP7qz8C"
      }
    },
    {
      "cell_type": "code",
      "source": [
        "from sklearn.compose import ColumnTransformer\n",
        "from sklearn.pipeline import Pipeline\n",
        "from sklearn.impute import SimpleImputer\n",
        "from sklearn.preprocessing import StandardScaler, OneHotEncoder"
      ],
      "metadata": {
        "execution": {
          "iopub.status.busy": "2024-07-16T13:19:47.39856Z",
          "iopub.execute_input": "2024-07-16T13:19:47.399Z",
          "iopub.status.idle": "2024-07-16T13:19:47.633Z",
          "shell.execute_reply.started": "2024-07-16T13:19:47.398965Z",
          "shell.execute_reply": "2024-07-16T13:19:47.631751Z"
        },
        "trusted": true,
        "id": "cAp6pO9Sqz8C"
      },
      "execution_count": 5,
      "outputs": []
    },
    {
      "cell_type": "code",
      "source": [
        "\n",
        "# Define transformers for numerical and categorical columns\n",
        "numerical_transformer = Pipeline(steps=[\n",
        "    ('imputer', SimpleImputer(strategy='mean')),\n",
        "    ('scaler', StandardScaler())\n",
        "])\n",
        "\n",
        "categorical_transformer = Pipeline(steps=[\n",
        "    ('imputer', SimpleImputer(strategy='constant', fill_value='missing')),\n",
        "    ('onehot', OneHotEncoder(handle_unknown='ignore', sparse = False))\n",
        "])"
      ],
      "metadata": {
        "id": "9gQ_belw2d-9"
      },
      "execution_count": 6,
      "outputs": []
    },
    {
      "cell_type": "code",
      "source": [
        "# Update categorical and numerical columns\n",
        "categorical_columns = df_train.select_dtypes(include=['object', 'category']).columns\n",
        "numerical_columns = df_train.select_dtypes(include=['int64', 'float64']).columns\n",
        "\n",
        "# Remove target variable from numerical columns\n",
        "numerical_columns = numerical_columns.drop('SalePrice')\n"
      ],
      "metadata": {
        "id": "SyksheWm2hQE"
      },
      "execution_count": 7,
      "outputs": []
    },
    {
      "cell_type": "markdown",
      "source": [
        "## Simplifying model for testing"
      ],
      "metadata": {
        "id": "2OnNjabc3Kt2"
      }
    },
    {
      "cell_type": "code",
      "source": [
        "categorical_columns_test = pd.Index(['MSZoning', 'HouseStyle'])"
      ],
      "metadata": {
        "id": "wY-Yal4x2ptE"
      },
      "execution_count": 8,
      "outputs": []
    },
    {
      "cell_type": "code",
      "source": [
        "numerical_columns_test = pd.Index(['LotArea', 'YearBuilt', 'TotRmsAbvGrd'])"
      ],
      "metadata": {
        "id": "F6Fq4z50EuX7"
      },
      "execution_count": 10,
      "outputs": []
    },
    {
      "cell_type": "code",
      "source": [
        "numerical_columns = numerical_columns_test\n",
        "categorical_columns = categorical_columns_test"
      ],
      "metadata": {
        "id": "Sn7xDWOdFVY9"
      },
      "execution_count": 11,
      "outputs": []
    },
    {
      "cell_type": "code",
      "source": [
        "df_cats = X_train[categorical_columns_test]\n",
        "df_cats"
      ],
      "metadata": {
        "colab": {
          "base_uri": "https://localhost:8080/",
          "height": 424
        },
        "id": "KXwI0h-iIlQ7",
        "outputId": "ad2962a2-0a4b-4049-83c3-70224592079c"
      },
      "execution_count": 12,
      "outputs": [
        {
          "output_type": "execute_result",
          "data": {
            "text/plain": [
              "     MSZoning HouseStyle\n",
              "0          RL     2Story\n",
              "1          RL     1Story\n",
              "2          RL     2Story\n",
              "3          RL     2Story\n",
              "4          RL     2Story\n",
              "...       ...        ...\n",
              "1455       RL     2Story\n",
              "1456       RL     1Story\n",
              "1457       RL     2Story\n",
              "1458       RL     1Story\n",
              "1459       RL     1Story\n",
              "\n",
              "[1460 rows x 2 columns]"
            ],
            "text/html": [
              "\n",
              "  <div id=\"df-7be763bf-614c-4148-8095-41926edc7041\" class=\"colab-df-container\">\n",
              "    <div>\n",
              "<style scoped>\n",
              "    .dataframe tbody tr th:only-of-type {\n",
              "        vertical-align: middle;\n",
              "    }\n",
              "\n",
              "    .dataframe tbody tr th {\n",
              "        vertical-align: top;\n",
              "    }\n",
              "\n",
              "    .dataframe thead th {\n",
              "        text-align: right;\n",
              "    }\n",
              "</style>\n",
              "<table border=\"1\" class=\"dataframe\">\n",
              "  <thead>\n",
              "    <tr style=\"text-align: right;\">\n",
              "      <th></th>\n",
              "      <th>MSZoning</th>\n",
              "      <th>HouseStyle</th>\n",
              "    </tr>\n",
              "  </thead>\n",
              "  <tbody>\n",
              "    <tr>\n",
              "      <th>0</th>\n",
              "      <td>RL</td>\n",
              "      <td>2Story</td>\n",
              "    </tr>\n",
              "    <tr>\n",
              "      <th>1</th>\n",
              "      <td>RL</td>\n",
              "      <td>1Story</td>\n",
              "    </tr>\n",
              "    <tr>\n",
              "      <th>2</th>\n",
              "      <td>RL</td>\n",
              "      <td>2Story</td>\n",
              "    </tr>\n",
              "    <tr>\n",
              "      <th>3</th>\n",
              "      <td>RL</td>\n",
              "      <td>2Story</td>\n",
              "    </tr>\n",
              "    <tr>\n",
              "      <th>4</th>\n",
              "      <td>RL</td>\n",
              "      <td>2Story</td>\n",
              "    </tr>\n",
              "    <tr>\n",
              "      <th>...</th>\n",
              "      <td>...</td>\n",
              "      <td>...</td>\n",
              "    </tr>\n",
              "    <tr>\n",
              "      <th>1455</th>\n",
              "      <td>RL</td>\n",
              "      <td>2Story</td>\n",
              "    </tr>\n",
              "    <tr>\n",
              "      <th>1456</th>\n",
              "      <td>RL</td>\n",
              "      <td>1Story</td>\n",
              "    </tr>\n",
              "    <tr>\n",
              "      <th>1457</th>\n",
              "      <td>RL</td>\n",
              "      <td>2Story</td>\n",
              "    </tr>\n",
              "    <tr>\n",
              "      <th>1458</th>\n",
              "      <td>RL</td>\n",
              "      <td>1Story</td>\n",
              "    </tr>\n",
              "    <tr>\n",
              "      <th>1459</th>\n",
              "      <td>RL</td>\n",
              "      <td>1Story</td>\n",
              "    </tr>\n",
              "  </tbody>\n",
              "</table>\n",
              "<p>1460 rows × 2 columns</p>\n",
              "</div>\n",
              "    <div class=\"colab-df-buttons\">\n",
              "\n",
              "  <div class=\"colab-df-container\">\n",
              "    <button class=\"colab-df-convert\" onclick=\"convertToInteractive('df-7be763bf-614c-4148-8095-41926edc7041')\"\n",
              "            title=\"Convert this dataframe to an interactive table.\"\n",
              "            style=\"display:none;\">\n",
              "\n",
              "  <svg xmlns=\"http://www.w3.org/2000/svg\" height=\"24px\" viewBox=\"0 -960 960 960\">\n",
              "    <path d=\"M120-120v-720h720v720H120Zm60-500h600v-160H180v160Zm220 220h160v-160H400v160Zm0 220h160v-160H400v160ZM180-400h160v-160H180v160Zm440 0h160v-160H620v160ZM180-180h160v-160H180v160Zm440 0h160v-160H620v160Z\"/>\n",
              "  </svg>\n",
              "    </button>\n",
              "\n",
              "  <style>\n",
              "    .colab-df-container {\n",
              "      display:flex;\n",
              "      gap: 12px;\n",
              "    }\n",
              "\n",
              "    .colab-df-convert {\n",
              "      background-color: #E8F0FE;\n",
              "      border: none;\n",
              "      border-radius: 50%;\n",
              "      cursor: pointer;\n",
              "      display: none;\n",
              "      fill: #1967D2;\n",
              "      height: 32px;\n",
              "      padding: 0 0 0 0;\n",
              "      width: 32px;\n",
              "    }\n",
              "\n",
              "    .colab-df-convert:hover {\n",
              "      background-color: #E2EBFA;\n",
              "      box-shadow: 0px 1px 2px rgba(60, 64, 67, 0.3), 0px 1px 3px 1px rgba(60, 64, 67, 0.15);\n",
              "      fill: #174EA6;\n",
              "    }\n",
              "\n",
              "    .colab-df-buttons div {\n",
              "      margin-bottom: 4px;\n",
              "    }\n",
              "\n",
              "    [theme=dark] .colab-df-convert {\n",
              "      background-color: #3B4455;\n",
              "      fill: #D2E3FC;\n",
              "    }\n",
              "\n",
              "    [theme=dark] .colab-df-convert:hover {\n",
              "      background-color: #434B5C;\n",
              "      box-shadow: 0px 1px 3px 1px rgba(0, 0, 0, 0.15);\n",
              "      filter: drop-shadow(0px 1px 2px rgba(0, 0, 0, 0.3));\n",
              "      fill: #FFFFFF;\n",
              "    }\n",
              "  </style>\n",
              "\n",
              "    <script>\n",
              "      const buttonEl =\n",
              "        document.querySelector('#df-7be763bf-614c-4148-8095-41926edc7041 button.colab-df-convert');\n",
              "      buttonEl.style.display =\n",
              "        google.colab.kernel.accessAllowed ? 'block' : 'none';\n",
              "\n",
              "      async function convertToInteractive(key) {\n",
              "        const element = document.querySelector('#df-7be763bf-614c-4148-8095-41926edc7041');\n",
              "        const dataTable =\n",
              "          await google.colab.kernel.invokeFunction('convertToInteractive',\n",
              "                                                    [key], {});\n",
              "        if (!dataTable) return;\n",
              "\n",
              "        const docLinkHtml = 'Like what you see? Visit the ' +\n",
              "          '<a target=\"_blank\" href=https://colab.research.google.com/notebooks/data_table.ipynb>data table notebook</a>'\n",
              "          + ' to learn more about interactive tables.';\n",
              "        element.innerHTML = '';\n",
              "        dataTable['output_type'] = 'display_data';\n",
              "        await google.colab.output.renderOutput(dataTable, element);\n",
              "        const docLink = document.createElement('div');\n",
              "        docLink.innerHTML = docLinkHtml;\n",
              "        element.appendChild(docLink);\n",
              "      }\n",
              "    </script>\n",
              "  </div>\n",
              "\n",
              "\n",
              "<div id=\"df-522799fb-8361-40d7-81f2-90414736ce5d\">\n",
              "  <button class=\"colab-df-quickchart\" onclick=\"quickchart('df-522799fb-8361-40d7-81f2-90414736ce5d')\"\n",
              "            title=\"Suggest charts\"\n",
              "            style=\"display:none;\">\n",
              "\n",
              "<svg xmlns=\"http://www.w3.org/2000/svg\" height=\"24px\"viewBox=\"0 0 24 24\"\n",
              "     width=\"24px\">\n",
              "    <g>\n",
              "        <path d=\"M19 3H5c-1.1 0-2 .9-2 2v14c0 1.1.9 2 2 2h14c1.1 0 2-.9 2-2V5c0-1.1-.9-2-2-2zM9 17H7v-7h2v7zm4 0h-2V7h2v10zm4 0h-2v-4h2v4z\"/>\n",
              "    </g>\n",
              "</svg>\n",
              "  </button>\n",
              "\n",
              "<style>\n",
              "  .colab-df-quickchart {\n",
              "      --bg-color: #E8F0FE;\n",
              "      --fill-color: #1967D2;\n",
              "      --hover-bg-color: #E2EBFA;\n",
              "      --hover-fill-color: #174EA6;\n",
              "      --disabled-fill-color: #AAA;\n",
              "      --disabled-bg-color: #DDD;\n",
              "  }\n",
              "\n",
              "  [theme=dark] .colab-df-quickchart {\n",
              "      --bg-color: #3B4455;\n",
              "      --fill-color: #D2E3FC;\n",
              "      --hover-bg-color: #434B5C;\n",
              "      --hover-fill-color: #FFFFFF;\n",
              "      --disabled-bg-color: #3B4455;\n",
              "      --disabled-fill-color: #666;\n",
              "  }\n",
              "\n",
              "  .colab-df-quickchart {\n",
              "    background-color: var(--bg-color);\n",
              "    border: none;\n",
              "    border-radius: 50%;\n",
              "    cursor: pointer;\n",
              "    display: none;\n",
              "    fill: var(--fill-color);\n",
              "    height: 32px;\n",
              "    padding: 0;\n",
              "    width: 32px;\n",
              "  }\n",
              "\n",
              "  .colab-df-quickchart:hover {\n",
              "    background-color: var(--hover-bg-color);\n",
              "    box-shadow: 0 1px 2px rgba(60, 64, 67, 0.3), 0 1px 3px 1px rgba(60, 64, 67, 0.15);\n",
              "    fill: var(--button-hover-fill-color);\n",
              "  }\n",
              "\n",
              "  .colab-df-quickchart-complete:disabled,\n",
              "  .colab-df-quickchart-complete:disabled:hover {\n",
              "    background-color: var(--disabled-bg-color);\n",
              "    fill: var(--disabled-fill-color);\n",
              "    box-shadow: none;\n",
              "  }\n",
              "\n",
              "  .colab-df-spinner {\n",
              "    border: 2px solid var(--fill-color);\n",
              "    border-color: transparent;\n",
              "    border-bottom-color: var(--fill-color);\n",
              "    animation:\n",
              "      spin 1s steps(1) infinite;\n",
              "  }\n",
              "\n",
              "  @keyframes spin {\n",
              "    0% {\n",
              "      border-color: transparent;\n",
              "      border-bottom-color: var(--fill-color);\n",
              "      border-left-color: var(--fill-color);\n",
              "    }\n",
              "    20% {\n",
              "      border-color: transparent;\n",
              "      border-left-color: var(--fill-color);\n",
              "      border-top-color: var(--fill-color);\n",
              "    }\n",
              "    30% {\n",
              "      border-color: transparent;\n",
              "      border-left-color: var(--fill-color);\n",
              "      border-top-color: var(--fill-color);\n",
              "      border-right-color: var(--fill-color);\n",
              "    }\n",
              "    40% {\n",
              "      border-color: transparent;\n",
              "      border-right-color: var(--fill-color);\n",
              "      border-top-color: var(--fill-color);\n",
              "    }\n",
              "    60% {\n",
              "      border-color: transparent;\n",
              "      border-right-color: var(--fill-color);\n",
              "    }\n",
              "    80% {\n",
              "      border-color: transparent;\n",
              "      border-right-color: var(--fill-color);\n",
              "      border-bottom-color: var(--fill-color);\n",
              "    }\n",
              "    90% {\n",
              "      border-color: transparent;\n",
              "      border-bottom-color: var(--fill-color);\n",
              "    }\n",
              "  }\n",
              "</style>\n",
              "\n",
              "  <script>\n",
              "    async function quickchart(key) {\n",
              "      const quickchartButtonEl =\n",
              "        document.querySelector('#' + key + ' button');\n",
              "      quickchartButtonEl.disabled = true;  // To prevent multiple clicks.\n",
              "      quickchartButtonEl.classList.add('colab-df-spinner');\n",
              "      try {\n",
              "        const charts = await google.colab.kernel.invokeFunction(\n",
              "            'suggestCharts', [key], {});\n",
              "      } catch (error) {\n",
              "        console.error('Error during call to suggestCharts:', error);\n",
              "      }\n",
              "      quickchartButtonEl.classList.remove('colab-df-spinner');\n",
              "      quickchartButtonEl.classList.add('colab-df-quickchart-complete');\n",
              "    }\n",
              "    (() => {\n",
              "      let quickchartButtonEl =\n",
              "        document.querySelector('#df-522799fb-8361-40d7-81f2-90414736ce5d button');\n",
              "      quickchartButtonEl.style.display =\n",
              "        google.colab.kernel.accessAllowed ? 'block' : 'none';\n",
              "    })();\n",
              "  </script>\n",
              "</div>\n",
              "    </div>\n",
              "  </div>\n"
            ],
            "application/vnd.google.colaboratory.intrinsic+json": {
              "type": "dataframe",
              "variable_name": "df_cats",
              "summary": "{\n  \"name\": \"df_cats\",\n  \"rows\": 1460,\n  \"fields\": [\n    {\n      \"column\": \"MSZoning\",\n      \"properties\": {\n        \"dtype\": \"category\",\n        \"num_unique_values\": 5,\n        \"samples\": [\n          \"RM\",\n          \"RH\",\n          \"C (all)\"\n        ],\n        \"semantic_type\": \"\",\n        \"description\": \"\"\n      }\n    },\n    {\n      \"column\": \"HouseStyle\",\n      \"properties\": {\n        \"dtype\": \"category\",\n        \"num_unique_values\": 8,\n        \"samples\": [\n          \"1Story\",\n          \"SLvl\",\n          \"2Story\"\n        ],\n        \"semantic_type\": \"\",\n        \"description\": \"\"\n      }\n    }\n  ]\n}"
            }
          },
          "metadata": {},
          "execution_count": 12
        }
      ]
    },
    {
      "source": [
        "df_nums = X_train[numerical_columns_test]\n",
        "df_nums"
      ],
      "cell_type": "code",
      "metadata": {
        "colab": {
          "base_uri": "https://localhost:8080/",
          "height": 424
        },
        "id": "-OX-fL8wI9MZ",
        "outputId": "e55bd0cd-dcc4-412f-9645-c6a3cb1622c8"
      },
      "execution_count": 13,
      "outputs": [
        {
          "output_type": "execute_result",
          "data": {
            "text/plain": [
              "      LotArea  YearBuilt  TotRmsAbvGrd\n",
              "0        8450       2003             8\n",
              "1        9600       1976             6\n",
              "2       11250       2001             6\n",
              "3        9550       1915             7\n",
              "4       14260       2000             9\n",
              "...       ...        ...           ...\n",
              "1455     7917       1999             7\n",
              "1456    13175       1978             7\n",
              "1457     9042       1941             9\n",
              "1458     9717       1950             5\n",
              "1459     9937       1965             6\n",
              "\n",
              "[1460 rows x 3 columns]"
            ],
            "text/html": [
              "\n",
              "  <div id=\"df-d643031d-fd79-447f-a316-2c42df1bc5f6\" class=\"colab-df-container\">\n",
              "    <div>\n",
              "<style scoped>\n",
              "    .dataframe tbody tr th:only-of-type {\n",
              "        vertical-align: middle;\n",
              "    }\n",
              "\n",
              "    .dataframe tbody tr th {\n",
              "        vertical-align: top;\n",
              "    }\n",
              "\n",
              "    .dataframe thead th {\n",
              "        text-align: right;\n",
              "    }\n",
              "</style>\n",
              "<table border=\"1\" class=\"dataframe\">\n",
              "  <thead>\n",
              "    <tr style=\"text-align: right;\">\n",
              "      <th></th>\n",
              "      <th>LotArea</th>\n",
              "      <th>YearBuilt</th>\n",
              "      <th>TotRmsAbvGrd</th>\n",
              "    </tr>\n",
              "  </thead>\n",
              "  <tbody>\n",
              "    <tr>\n",
              "      <th>0</th>\n",
              "      <td>8450</td>\n",
              "      <td>2003</td>\n",
              "      <td>8</td>\n",
              "    </tr>\n",
              "    <tr>\n",
              "      <th>1</th>\n",
              "      <td>9600</td>\n",
              "      <td>1976</td>\n",
              "      <td>6</td>\n",
              "    </tr>\n",
              "    <tr>\n",
              "      <th>2</th>\n",
              "      <td>11250</td>\n",
              "      <td>2001</td>\n",
              "      <td>6</td>\n",
              "    </tr>\n",
              "    <tr>\n",
              "      <th>3</th>\n",
              "      <td>9550</td>\n",
              "      <td>1915</td>\n",
              "      <td>7</td>\n",
              "    </tr>\n",
              "    <tr>\n",
              "      <th>4</th>\n",
              "      <td>14260</td>\n",
              "      <td>2000</td>\n",
              "      <td>9</td>\n",
              "    </tr>\n",
              "    <tr>\n",
              "      <th>...</th>\n",
              "      <td>...</td>\n",
              "      <td>...</td>\n",
              "      <td>...</td>\n",
              "    </tr>\n",
              "    <tr>\n",
              "      <th>1455</th>\n",
              "      <td>7917</td>\n",
              "      <td>1999</td>\n",
              "      <td>7</td>\n",
              "    </tr>\n",
              "    <tr>\n",
              "      <th>1456</th>\n",
              "      <td>13175</td>\n",
              "      <td>1978</td>\n",
              "      <td>7</td>\n",
              "    </tr>\n",
              "    <tr>\n",
              "      <th>1457</th>\n",
              "      <td>9042</td>\n",
              "      <td>1941</td>\n",
              "      <td>9</td>\n",
              "    </tr>\n",
              "    <tr>\n",
              "      <th>1458</th>\n",
              "      <td>9717</td>\n",
              "      <td>1950</td>\n",
              "      <td>5</td>\n",
              "    </tr>\n",
              "    <tr>\n",
              "      <th>1459</th>\n",
              "      <td>9937</td>\n",
              "      <td>1965</td>\n",
              "      <td>6</td>\n",
              "    </tr>\n",
              "  </tbody>\n",
              "</table>\n",
              "<p>1460 rows × 3 columns</p>\n",
              "</div>\n",
              "    <div class=\"colab-df-buttons\">\n",
              "\n",
              "  <div class=\"colab-df-container\">\n",
              "    <button class=\"colab-df-convert\" onclick=\"convertToInteractive('df-d643031d-fd79-447f-a316-2c42df1bc5f6')\"\n",
              "            title=\"Convert this dataframe to an interactive table.\"\n",
              "            style=\"display:none;\">\n",
              "\n",
              "  <svg xmlns=\"http://www.w3.org/2000/svg\" height=\"24px\" viewBox=\"0 -960 960 960\">\n",
              "    <path d=\"M120-120v-720h720v720H120Zm60-500h600v-160H180v160Zm220 220h160v-160H400v160Zm0 220h160v-160H400v160ZM180-400h160v-160H180v160Zm440 0h160v-160H620v160ZM180-180h160v-160H180v160Zm440 0h160v-160H620v160Z\"/>\n",
              "  </svg>\n",
              "    </button>\n",
              "\n",
              "  <style>\n",
              "    .colab-df-container {\n",
              "      display:flex;\n",
              "      gap: 12px;\n",
              "    }\n",
              "\n",
              "    .colab-df-convert {\n",
              "      background-color: #E8F0FE;\n",
              "      border: none;\n",
              "      border-radius: 50%;\n",
              "      cursor: pointer;\n",
              "      display: none;\n",
              "      fill: #1967D2;\n",
              "      height: 32px;\n",
              "      padding: 0 0 0 0;\n",
              "      width: 32px;\n",
              "    }\n",
              "\n",
              "    .colab-df-convert:hover {\n",
              "      background-color: #E2EBFA;\n",
              "      box-shadow: 0px 1px 2px rgba(60, 64, 67, 0.3), 0px 1px 3px 1px rgba(60, 64, 67, 0.15);\n",
              "      fill: #174EA6;\n",
              "    }\n",
              "\n",
              "    .colab-df-buttons div {\n",
              "      margin-bottom: 4px;\n",
              "    }\n",
              "\n",
              "    [theme=dark] .colab-df-convert {\n",
              "      background-color: #3B4455;\n",
              "      fill: #D2E3FC;\n",
              "    }\n",
              "\n",
              "    [theme=dark] .colab-df-convert:hover {\n",
              "      background-color: #434B5C;\n",
              "      box-shadow: 0px 1px 3px 1px rgba(0, 0, 0, 0.15);\n",
              "      filter: drop-shadow(0px 1px 2px rgba(0, 0, 0, 0.3));\n",
              "      fill: #FFFFFF;\n",
              "    }\n",
              "  </style>\n",
              "\n",
              "    <script>\n",
              "      const buttonEl =\n",
              "        document.querySelector('#df-d643031d-fd79-447f-a316-2c42df1bc5f6 button.colab-df-convert');\n",
              "      buttonEl.style.display =\n",
              "        google.colab.kernel.accessAllowed ? 'block' : 'none';\n",
              "\n",
              "      async function convertToInteractive(key) {\n",
              "        const element = document.querySelector('#df-d643031d-fd79-447f-a316-2c42df1bc5f6');\n",
              "        const dataTable =\n",
              "          await google.colab.kernel.invokeFunction('convertToInteractive',\n",
              "                                                    [key], {});\n",
              "        if (!dataTable) return;\n",
              "\n",
              "        const docLinkHtml = 'Like what you see? Visit the ' +\n",
              "          '<a target=\"_blank\" href=https://colab.research.google.com/notebooks/data_table.ipynb>data table notebook</a>'\n",
              "          + ' to learn more about interactive tables.';\n",
              "        element.innerHTML = '';\n",
              "        dataTable['output_type'] = 'display_data';\n",
              "        await google.colab.output.renderOutput(dataTable, element);\n",
              "        const docLink = document.createElement('div');\n",
              "        docLink.innerHTML = docLinkHtml;\n",
              "        element.appendChild(docLink);\n",
              "      }\n",
              "    </script>\n",
              "  </div>\n",
              "\n",
              "\n",
              "<div id=\"df-b207a2d8-e147-4ec4-9ea8-6288cebccdf1\">\n",
              "  <button class=\"colab-df-quickchart\" onclick=\"quickchart('df-b207a2d8-e147-4ec4-9ea8-6288cebccdf1')\"\n",
              "            title=\"Suggest charts\"\n",
              "            style=\"display:none;\">\n",
              "\n",
              "<svg xmlns=\"http://www.w3.org/2000/svg\" height=\"24px\"viewBox=\"0 0 24 24\"\n",
              "     width=\"24px\">\n",
              "    <g>\n",
              "        <path d=\"M19 3H5c-1.1 0-2 .9-2 2v14c0 1.1.9 2 2 2h14c1.1 0 2-.9 2-2V5c0-1.1-.9-2-2-2zM9 17H7v-7h2v7zm4 0h-2V7h2v10zm4 0h-2v-4h2v4z\"/>\n",
              "    </g>\n",
              "</svg>\n",
              "  </button>\n",
              "\n",
              "<style>\n",
              "  .colab-df-quickchart {\n",
              "      --bg-color: #E8F0FE;\n",
              "      --fill-color: #1967D2;\n",
              "      --hover-bg-color: #E2EBFA;\n",
              "      --hover-fill-color: #174EA6;\n",
              "      --disabled-fill-color: #AAA;\n",
              "      --disabled-bg-color: #DDD;\n",
              "  }\n",
              "\n",
              "  [theme=dark] .colab-df-quickchart {\n",
              "      --bg-color: #3B4455;\n",
              "      --fill-color: #D2E3FC;\n",
              "      --hover-bg-color: #434B5C;\n",
              "      --hover-fill-color: #FFFFFF;\n",
              "      --disabled-bg-color: #3B4455;\n",
              "      --disabled-fill-color: #666;\n",
              "  }\n",
              "\n",
              "  .colab-df-quickchart {\n",
              "    background-color: var(--bg-color);\n",
              "    border: none;\n",
              "    border-radius: 50%;\n",
              "    cursor: pointer;\n",
              "    display: none;\n",
              "    fill: var(--fill-color);\n",
              "    height: 32px;\n",
              "    padding: 0;\n",
              "    width: 32px;\n",
              "  }\n",
              "\n",
              "  .colab-df-quickchart:hover {\n",
              "    background-color: var(--hover-bg-color);\n",
              "    box-shadow: 0 1px 2px rgba(60, 64, 67, 0.3), 0 1px 3px 1px rgba(60, 64, 67, 0.15);\n",
              "    fill: var(--button-hover-fill-color);\n",
              "  }\n",
              "\n",
              "  .colab-df-quickchart-complete:disabled,\n",
              "  .colab-df-quickchart-complete:disabled:hover {\n",
              "    background-color: var(--disabled-bg-color);\n",
              "    fill: var(--disabled-fill-color);\n",
              "    box-shadow: none;\n",
              "  }\n",
              "\n",
              "  .colab-df-spinner {\n",
              "    border: 2px solid var(--fill-color);\n",
              "    border-color: transparent;\n",
              "    border-bottom-color: var(--fill-color);\n",
              "    animation:\n",
              "      spin 1s steps(1) infinite;\n",
              "  }\n",
              "\n",
              "  @keyframes spin {\n",
              "    0% {\n",
              "      border-color: transparent;\n",
              "      border-bottom-color: var(--fill-color);\n",
              "      border-left-color: var(--fill-color);\n",
              "    }\n",
              "    20% {\n",
              "      border-color: transparent;\n",
              "      border-left-color: var(--fill-color);\n",
              "      border-top-color: var(--fill-color);\n",
              "    }\n",
              "    30% {\n",
              "      border-color: transparent;\n",
              "      border-left-color: var(--fill-color);\n",
              "      border-top-color: var(--fill-color);\n",
              "      border-right-color: var(--fill-color);\n",
              "    }\n",
              "    40% {\n",
              "      border-color: transparent;\n",
              "      border-right-color: var(--fill-color);\n",
              "      border-top-color: var(--fill-color);\n",
              "    }\n",
              "    60% {\n",
              "      border-color: transparent;\n",
              "      border-right-color: var(--fill-color);\n",
              "    }\n",
              "    80% {\n",
              "      border-color: transparent;\n",
              "      border-right-color: var(--fill-color);\n",
              "      border-bottom-color: var(--fill-color);\n",
              "    }\n",
              "    90% {\n",
              "      border-color: transparent;\n",
              "      border-bottom-color: var(--fill-color);\n",
              "    }\n",
              "  }\n",
              "</style>\n",
              "\n",
              "  <script>\n",
              "    async function quickchart(key) {\n",
              "      const quickchartButtonEl =\n",
              "        document.querySelector('#' + key + ' button');\n",
              "      quickchartButtonEl.disabled = true;  // To prevent multiple clicks.\n",
              "      quickchartButtonEl.classList.add('colab-df-spinner');\n",
              "      try {\n",
              "        const charts = await google.colab.kernel.invokeFunction(\n",
              "            'suggestCharts', [key], {});\n",
              "      } catch (error) {\n",
              "        console.error('Error during call to suggestCharts:', error);\n",
              "      }\n",
              "      quickchartButtonEl.classList.remove('colab-df-spinner');\n",
              "      quickchartButtonEl.classList.add('colab-df-quickchart-complete');\n",
              "    }\n",
              "    (() => {\n",
              "      let quickchartButtonEl =\n",
              "        document.querySelector('#df-b207a2d8-e147-4ec4-9ea8-6288cebccdf1 button');\n",
              "      quickchartButtonEl.style.display =\n",
              "        google.colab.kernel.accessAllowed ? 'block' : 'none';\n",
              "    })();\n",
              "  </script>\n",
              "</div>\n",
              "    </div>\n",
              "  </div>\n"
            ],
            "application/vnd.google.colaboratory.intrinsic+json": {
              "type": "dataframe",
              "variable_name": "df_nums",
              "summary": "{\n  \"name\": \"df_nums\",\n  \"rows\": 1460,\n  \"fields\": [\n    {\n      \"column\": \"LotArea\",\n      \"properties\": {\n        \"dtype\": \"number\",\n        \"std\": 9981,\n        \"min\": 1300,\n        \"max\": 215245,\n        \"num_unique_values\": 1073,\n        \"samples\": [\n          10186,\n          8163,\n          8854\n        ],\n        \"semantic_type\": \"\",\n        \"description\": \"\"\n      }\n    },\n    {\n      \"column\": \"YearBuilt\",\n      \"properties\": {\n        \"dtype\": \"number\",\n        \"std\": 30,\n        \"min\": 1872,\n        \"max\": 2010,\n        \"num_unique_values\": 112,\n        \"samples\": [\n          1999,\n          1936,\n          2000\n        ],\n        \"semantic_type\": \"\",\n        \"description\": \"\"\n      }\n    },\n    {\n      \"column\": \"TotRmsAbvGrd\",\n      \"properties\": {\n        \"dtype\": \"number\",\n        \"std\": 1,\n        \"min\": 2,\n        \"max\": 14,\n        \"num_unique_values\": 12,\n        \"samples\": [\n          2,\n          3,\n          8\n        ],\n        \"semantic_type\": \"\",\n        \"description\": \"\"\n      }\n    }\n  ]\n}"
            }
          },
          "metadata": {},
          "execution_count": 13
        }
      ]
    },
    {
      "cell_type": "code",
      "source": [
        "X_simple = pd.concat([df_nums, df_cats], axis=1)"
      ],
      "metadata": {
        "id": "XMIinXn1HjDG"
      },
      "execution_count": 14,
      "outputs": []
    },
    {
      "cell_type": "code",
      "source": [
        "X_train = X_simple"
      ],
      "metadata": {
        "id": "TZTCCb5vIhF6"
      },
      "execution_count": 15,
      "outputs": []
    },
    {
      "cell_type": "markdown",
      "source": [
        "## Normal flow"
      ],
      "metadata": {
        "id": "UJdBh59eFSHD"
      }
    },
    {
      "cell_type": "code",
      "source": [
        "# Combine transformers using ColumnTransformer\n",
        "preprocessor = ColumnTransformer(\n",
        "    transformers=[\n",
        "        ('num', numerical_transformer, numerical_columns),\n",
        "        ('cat', categorical_transformer, categorical_columns)\n",
        "    ],remainder = 'passthrough')\n",
        "\n",
        "# Create a pipeline with the preprocessor\n",
        "pipeline = Pipeline(steps=[\n",
        "    ('preprocessor', preprocessor)])"
      ],
      "metadata": {
        "id": "8J5bU5vq2lEG"
      },
      "execution_count": 16,
      "outputs": []
    },
    {
      "cell_type": "code",
      "source": [
        "# Apply the pipeline to your dataset\n",
        "X = X_train\n",
        "y = np.log(y_train) #normalize dependent variable\n",
        "X_preprocessed = pipeline.fit_transform(X)"
      ],
      "metadata": {
        "execution": {
          "iopub.status.busy": "2024-07-16T13:19:47.634763Z",
          "iopub.execute_input": "2024-07-16T13:19:47.635253Z",
          "iopub.status.idle": "2024-07-16T13:19:47.718221Z",
          "shell.execute_reply.started": "2024-07-16T13:19:47.635208Z",
          "shell.execute_reply": "2024-07-16T13:19:47.71705Z"
        },
        "trusted": true,
        "id": "M-FjgfuXqz8D",
        "colab": {
          "base_uri": "https://localhost:8080/"
        },
        "outputId": "f8032438-3b3f-42e5-c9ca-16f68ea44299"
      },
      "execution_count": 17,
      "outputs": [
        {
          "output_type": "stream",
          "name": "stderr",
          "text": [
            "/usr/local/lib/python3.10/dist-packages/sklearn/preprocessing/_encoders.py:975: FutureWarning: `sparse` was renamed to `sparse_output` in version 1.2 and will be removed in 1.4. `sparse_output` is ignored unless you leave `sparse` to its default value.\n",
            "  warnings.warn(\n"
          ]
        }
      ]
    },
    {
      "cell_type": "code",
      "source": [
        "X_preprocessed.shape"
      ],
      "metadata": {
        "execution": {
          "iopub.status.busy": "2024-07-16T13:19:47.719988Z",
          "iopub.execute_input": "2024-07-16T13:19:47.720349Z",
          "iopub.status.idle": "2024-07-16T13:19:47.728207Z",
          "shell.execute_reply.started": "2024-07-16T13:19:47.720319Z",
          "shell.execute_reply": "2024-07-16T13:19:47.726844Z"
        },
        "trusted": true,
        "id": "EstH4WOYqz8D",
        "colab": {
          "base_uri": "https://localhost:8080/"
        },
        "outputId": "2a1be88d-491e-4dd6-a81c-c89a076c720f"
      },
      "execution_count": null,
      "outputs": [
        {
          "output_type": "execute_result",
          "data": {
            "text/plain": [
              "(1460, 16)"
            ]
          },
          "metadata": {},
          "execution_count": 108
        }
      ]
    },
    {
      "cell_type": "markdown",
      "source": [
        "# PCA"
      ],
      "metadata": {
        "id": "zp7BuFdsqz8D"
      }
    },
    {
      "cell_type": "code",
      "source": [
        "from sklearn.decomposition import PCA\n",
        "\n",
        "pca = PCA()\n",
        "X_pca_pre = pca.fit_transform(X_preprocessed)\n",
        "\n",
        "# Calculate the cumulative explained variance\n",
        "cumulative_explained_variance = np.cumsum(pca.explained_variance_ratio_)\n",
        "\n",
        "# Choose the number of components based on the explained variance threshold\n",
        "n_components = np.argmax(cumulative_explained_variance >= 0.95) + 1\n",
        "\n",
        "pca = PCA(n_components=n_components)\n",
        "pipeline_pca = Pipeline(steps=\n",
        "                        [('preprocessor', preprocessor),\n",
        "                        ('pca', pca)])\n",
        "\n",
        "X_pca = pipeline_pca.fit_transform(X)"
      ],
      "metadata": {
        "execution": {
          "iopub.status.busy": "2024-07-16T13:19:47.729621Z",
          "iopub.execute_input": "2024-07-16T13:19:47.730116Z",
          "iopub.status.idle": "2024-07-16T13:19:48.341654Z",
          "shell.execute_reply.started": "2024-07-16T13:19:47.73006Z",
          "shell.execute_reply": "2024-07-16T13:19:48.339492Z"
        },
        "trusted": true,
        "id": "bRgomxBsqz8D",
        "colab": {
          "base_uri": "https://localhost:8080/"
        },
        "outputId": "c8ac899b-5399-4879-8568-a2aafefa679f"
      },
      "execution_count": null,
      "outputs": [
        {
          "output_type": "stream",
          "name": "stderr",
          "text": [
            "/usr/local/lib/python3.10/dist-packages/sklearn/preprocessing/_encoders.py:975: FutureWarning: `sparse` was renamed to `sparse_output` in version 1.2 and will be removed in 1.4. `sparse_output` is ignored unless you leave `sparse` to its default value.\n",
            "  warnings.warn(\n"
          ]
        }
      ]
    },
    {
      "cell_type": "markdown",
      "source": [
        "# Feature engineering"
      ],
      "metadata": {
        "id": "szbdLWaGqz8D"
      }
    },
    {
      "cell_type": "code",
      "source": [
        "from sklearn.preprocessing import FunctionTransformer\n",
        "\n",
        "def custom_features(df):\n",
        "    df_out = df.copy()\n",
        "    df_out['PropertyAge'] = df_out['YrSold'] - df_out['YearBuilt']\n",
        "    df_out['TotalSF'] = df_out['TotalBsmtSF'] + df_out['1stFlrSF'] + df_out['2ndFlrSF']\n",
        "    df_out['TotalBath'] = df_out['FullBath'] + 0.5 * df_out['HalfBath'] + df_out['BsmtFullBath'] + 0.5 * df['BsmtHalfBath']\n",
        "    df_out['HasRemodeled'] = (df_out['YearRemodAdd'] != df_out['YearBuilt']).astype(object)\n",
        "    df_out['Has2ndFloor'] = (df_out['2ndFlrSF'] > 0).astype(object)\n",
        "    df_out['HasGarage'] = (df_out['GarageArea'] > 0).astype(object)\n",
        "    df_out['YrSold_cat'] = df_out['YrSold'].astype(object)\n",
        "    df_out['MoSold_cat'] = df_out['MoSold'].astype(object)\n",
        "    df_out['YearBuilt_cat'] = df_out['YearBuilt'].astype(object)\n",
        "    df_out['MSSubClass_cat'] = df_out['MSSubClass'].astype(object)\n",
        "\n",
        "    return df_out\n",
        "\n",
        "feature_engineering_transformer = FunctionTransformer(custom_features)"
      ],
      "metadata": {
        "execution": {
          "iopub.status.busy": "2024-07-16T13:19:48.355314Z",
          "iopub.execute_input": "2024-07-16T13:19:48.362998Z",
          "iopub.status.idle": "2024-07-16T13:19:48.400555Z",
          "shell.execute_reply.started": "2024-07-16T13:19:48.362725Z",
          "shell.execute_reply": "2024-07-16T13:19:48.39722Z"
        },
        "trusted": true,
        "id": "2AfFRtYYqz8D"
      },
      "execution_count": null,
      "outputs": []
    },
    {
      "cell_type": "code",
      "source": [
        "# Identify categorical and numerical columns\n",
        "new_cols_categorical = pd.Index(['HasRemodeled', 'Has2ndFloor', 'HasGarage'])\n",
        "new_cols_numeric = pd.Index(['PropertyAge', 'TotalSF', 'TotalBath', 'YrSold_cat', 'MoSold_cat', 'YearBuilt_cat', 'MSSubClass_cat'])\n",
        "\n",
        "# Update categorical and numerical columns\n",
        "categorical_columns = df_train.select_dtypes(include=['object', 'category']).columns.append(new_cols_categorical)\n",
        "numerical_columns = df_train.select_dtypes(include=['int64', 'float64']).columns.append(new_cols_numeric)\n",
        "\n",
        "# Remove target variable from numerical columns\n",
        "numerical_columns = numerical_columns.drop('SalePrice')\n",
        "\n",
        "# Combine transformers using ColumnTransformer\n",
        "preprocessor = ColumnTransformer(\n",
        "    transformers=[\n",
        "        ('num', numerical_transformer, numerical_columns),\n",
        "        ('cat', categorical_transformer, categorical_columns)\n",
        "    ],remainder = 'passthrough')\n",
        "\n",
        "# Create a pipeline with the preprocessor\n",
        "pipeline_fe = Pipeline(steps=[\n",
        "    ('fe', feature_engineering_transformer),\n",
        "    ('preprocessor', preprocessor),\n",
        "    ('pca', pca)])\n",
        "\n",
        "# Apply the pipeline to your dataset\n",
        "X = df_train.drop('SalePrice', axis=1)\n",
        "y = np.log(df_train['SalePrice'])\n",
        "X_preprocessed_fe = pipeline_fe.fit_transform(X)"
      ],
      "metadata": {
        "execution": {
          "iopub.status.busy": "2024-07-16T13:19:48.406682Z",
          "iopub.execute_input": "2024-07-16T13:19:48.408835Z",
          "iopub.status.idle": "2024-07-16T13:19:48.849649Z",
          "shell.execute_reply.started": "2024-07-16T13:19:48.408768Z",
          "shell.execute_reply": "2024-07-16T13:19:48.847743Z"
        },
        "trusted": true,
        "id": "5G_ZmFLqqz8E",
        "colab": {
          "base_uri": "https://localhost:8080/"
        },
        "outputId": "5f5416a4-6e2b-40ff-cc1f-bf9d6442b727"
      },
      "execution_count": null,
      "outputs": [
        {
          "output_type": "stream",
          "name": "stderr",
          "text": [
            "/usr/local/lib/python3.10/dist-packages/sklearn/preprocessing/_encoders.py:975: FutureWarning: `sparse` was renamed to `sparse_output` in version 1.2 and will be removed in 1.4. `sparse_output` is ignored unless you leave `sparse` to its default value.\n",
            "  warnings.warn(\n"
          ]
        }
      ]
    },
    {
      "cell_type": "markdown",
      "source": [
        "# Model training, prediction and evaluation"
      ],
      "metadata": {
        "id": "ZIpSQDdyqz8E"
      }
    },
    {
      "cell_type": "code",
      "source": [
        "from sklearn.model_selection import train_test_split\n",
        "X_train, X_test, y_train, y_test = train_test_split(X_preprocessed,\n",
        "                            y, test_size=0.2, random_state=42)\n",
        "\n",
        "from sklearn.metrics import mean_squared_error"
      ],
      "metadata": {
        "execution": {
          "iopub.status.busy": "2024-07-16T13:19:48.852062Z",
          "iopub.execute_input": "2024-07-16T13:19:48.854898Z",
          "iopub.status.idle": "2024-07-16T13:19:48.879912Z",
          "shell.execute_reply.started": "2024-07-16T13:19:48.85483Z",
          "shell.execute_reply": "2024-07-16T13:19:48.877956Z"
        },
        "trusted": true,
        "id": "zYV36C3uqz8E"
      },
      "execution_count": 18,
      "outputs": []
    },
    {
      "cell_type": "markdown",
      "source": [
        "## Linear regression"
      ],
      "metadata": {
        "id": "uaqHOz9Nqz8E"
      }
    },
    {
      "cell_type": "code",
      "source": [
        "from sklearn.linear_model import LinearRegression\n",
        "\n",
        "regressor = LinearRegression()\n",
        "regressor.fit(X_train, y_train)\n",
        "\n",
        "pred = regressor.predict(X_test)\n",
        "\n",
        "mse = mean_squared_error(y_test,pred) # baseline\n",
        "\n",
        "print(\"Simple linear regression MSE: \" + str(mse))"
      ],
      "metadata": {
        "execution": {
          "iopub.status.busy": "2024-07-16T13:19:48.883231Z",
          "iopub.execute_input": "2024-07-16T13:19:48.885549Z",
          "iopub.status.idle": "2024-07-16T13:19:48.935992Z",
          "shell.execute_reply.started": "2024-07-16T13:19:48.885485Z",
          "shell.execute_reply": "2024-07-16T13:19:48.934418Z"
        },
        "trusted": true,
        "id": "WvN0Pabeqz8E",
        "colab": {
          "base_uri": "https://localhost:8080/"
        },
        "outputId": "29b2f285-95bd-4ec8-dd21-4c1bdde25b8f"
      },
      "execution_count": 19,
      "outputs": [
        {
          "output_type": "stream",
          "name": "stdout",
          "text": [
            "Simple linear regression MSE: 0.00041855650464361796\n"
          ]
        }
      ]
    },
    {
      "cell_type": "code",
      "source": [],
      "metadata": {
        "id": "yYN5utJMlP0l"
      },
      "execution_count": null,
      "outputs": []
    },
    {
      "cell_type": "markdown",
      "source": [
        "## Exporting the model"
      ],
      "metadata": {
        "id": "tXzYREl1ZZYp"
      }
    },
    {
      "cell_type": "code",
      "source": [
        "import joblib\n",
        "\n",
        "joblib.dump(regressor, 'linear_reg_model.joblib')"
      ],
      "metadata": {
        "colab": {
          "base_uri": "https://localhost:8080/"
        },
        "id": "nUCzap6PZY3H",
        "outputId": "4d1f75c4-daa4-4355-a09a-a03af638a356"
      },
      "execution_count": 20,
      "outputs": [
        {
          "output_type": "execute_result",
          "data": {
            "text/plain": [
              "['linear_reg_model.joblib']"
            ]
          },
          "metadata": {},
          "execution_count": 20
        }
      ]
    },
    {
      "cell_type": "markdown",
      "source": [
        "## Polynomial regression"
      ],
      "metadata": {
        "id": "EcdnvKQ1qz8I"
      }
    },
    {
      "cell_type": "code",
      "source": [
        "from sklearn.preprocessing import PolynomialFeatures\n",
        "\n",
        "poly_reg = PolynomialFeatures(degree = 3)\n",
        "X_poly = poly_reg.fit_transform(X_train)\n",
        "lin_reg = LinearRegression()\n",
        "lin_reg.fit(X_poly, y_train)\n",
        "\n",
        "X_poly_test = poly_reg.fit_transform(X_test)\n",
        "pred = lin_reg.predict(X_poly_test)\n",
        "\n",
        "mse = mean_squared_error(y_test,pred) # baseline\n",
        "\n",
        "print(\"Polynomial regression MSE: \" + str(mse))"
      ],
      "metadata": {
        "execution": {
          "iopub.status.busy": "2024-07-16T13:39:57.055429Z",
          "iopub.execute_input": "2024-07-16T13:39:57.056157Z",
          "iopub.status.idle": "2024-07-16T13:40:35.069732Z",
          "shell.execute_reply.started": "2024-07-16T13:39:57.056095Z",
          "shell.execute_reply": "2024-07-16T13:40:35.068324Z"
        },
        "trusted": true,
        "id": "7SmGp8ywqz8I"
      },
      "execution_count": null,
      "outputs": []
    },
    {
      "cell_type": "markdown",
      "source": [
        "## XGBoost"
      ],
      "metadata": {
        "id": "tZ9WO90dqz8I"
      }
    },
    {
      "cell_type": "code",
      "source": [
        "from xgboost import XGBRegressor\n",
        "\n",
        "# Instantiation\n",
        "xgb_r = XGBRegressor(objective ='reg:squarederror',\n",
        "                  n_estimators = 10, seed = 123)\n",
        "\n",
        "# Fitting the model\n",
        "xgb_r.fit(X_train, y_train)\n",
        "\n",
        "pred = xgb_r.predict(X_test)\n",
        "\n",
        "mse = mean_squared_error(y_test,pred) # baseline\n",
        "\n",
        "print(\"XGBoost MSE: \" + str(mse))"
      ],
      "metadata": {
        "execution": {
          "iopub.status.busy": "2024-07-16T13:20:21.926261Z",
          "iopub.execute_input": "2024-07-16T13:20:21.92703Z",
          "iopub.status.idle": "2024-07-16T13:20:22.471357Z",
          "shell.execute_reply.started": "2024-07-16T13:20:21.926972Z",
          "shell.execute_reply": "2024-07-16T13:20:22.470308Z"
        },
        "trusted": true,
        "id": "sQaP-7CFqz8I"
      },
      "execution_count": null,
      "outputs": []
    },
    {
      "cell_type": "markdown",
      "source": [
        "## Decision Tree Regression model"
      ],
      "metadata": {
        "id": "gRCENuzMqz8I"
      }
    },
    {
      "cell_type": "code",
      "source": [
        "from sklearn.tree import DecisionTreeRegressor\n",
        "\n",
        "regressor = DecisionTreeRegressor(random_state = 0)\n",
        "regressor.fit(X_train, y_train)\n",
        "\n",
        "pred = regressor.predict(X_test)\n",
        "\n",
        "mse = mean_squared_error(y_test,pred)\n",
        "\n",
        "print(\"Decision Tree Regression MSE: \" + str(mse))"
      ],
      "metadata": {
        "execution": {
          "iopub.status.busy": "2024-07-16T13:20:22.476031Z",
          "iopub.execute_input": "2024-07-16T13:20:22.479054Z",
          "iopub.status.idle": "2024-07-16T13:20:22.624681Z",
          "shell.execute_reply.started": "2024-07-16T13:20:22.479003Z",
          "shell.execute_reply": "2024-07-16T13:20:22.623393Z"
        },
        "trusted": true,
        "id": "mdyr2Jxhqz8I"
      },
      "execution_count": null,
      "outputs": []
    },
    {
      "cell_type": "markdown",
      "source": [
        "## Random forest regressor"
      ],
      "metadata": {
        "id": "Q9--dlN2qz8I"
      }
    },
    {
      "cell_type": "code",
      "source": [
        "from sklearn.ensemble import RandomForestRegressor\n",
        "\n",
        "regressor = RandomForestRegressor(n_estimators = 20, random_state = 0)\n",
        "regressor.fit(X_train, y_train)\n",
        "\n",
        "pred = regressor.predict(X_test)\n",
        "\n",
        "mse = mean_squared_error(y_test,pred)\n",
        "\n",
        "print(\"Decision Tree Regression MSE: \" + str(mse))"
      ],
      "metadata": {
        "execution": {
          "iopub.status.busy": "2024-07-16T13:21:31.500335Z",
          "iopub.execute_input": "2024-07-16T13:21:31.500853Z",
          "iopub.status.idle": "2024-07-16T13:21:32.74647Z",
          "shell.execute_reply.started": "2024-07-16T13:21:31.500815Z",
          "shell.execute_reply": "2024-07-16T13:21:32.744835Z"
        },
        "trusted": true,
        "id": "RonEMSLMqz8K"
      },
      "execution_count": null,
      "outputs": []
    },
    {
      "cell_type": "markdown",
      "source": [
        "## SVM regressor"
      ],
      "metadata": {
        "id": "P3d_SGfSqz8K"
      }
    },
    {
      "cell_type": "code",
      "source": [
        "from sklearn.svm import SVR\n",
        "\n",
        "regressor = SVR(kernel = 'rbf')\n",
        "regressor.fit(X_train, y_train)\n",
        "\n",
        "pred = regressor.predict(X_test)\n",
        "\n",
        "mse = mean_squared_error(y_test,pred)\n",
        "\n",
        "print(\"Decision Tree Regression MSE: \" + str(mse))"
      ],
      "metadata": {
        "execution": {
          "iopub.status.busy": "2024-07-16T13:22:38.287837Z",
          "iopub.execute_input": "2024-07-16T13:22:38.288395Z",
          "iopub.status.idle": "2024-07-16T13:22:38.377041Z",
          "shell.execute_reply.started": "2024-07-16T13:22:38.288357Z",
          "shell.execute_reply": "2024-07-16T13:22:38.375547Z"
        },
        "trusted": true,
        "id": "8NR6lslTqz8K"
      },
      "execution_count": null,
      "outputs": []
    },
    {
      "cell_type": "markdown",
      "source": [
        "## ANN"
      ],
      "metadata": {
        "id": "kRctlsnzqz8K"
      }
    },
    {
      "cell_type": "code",
      "source": [
        "import tensorflow as tf\n",
        "\n",
        "ann = tf.keras.models.Sequential()\n",
        "\n",
        "ann.add(tf.keras.layers.Dense(units=6, activation='relu'))\n",
        "\n",
        "ann.add(tf.keras.layers.Dense(units=6, activation='relu'))\n",
        "\n",
        "ann.add(tf.keras.layers.Dense(units=1, activation='sigmoid')) # softmax if output is non-categorical"
      ],
      "metadata": {
        "execution": {
          "iopub.status.busy": "2024-07-16T13:28:37.588577Z",
          "iopub.execute_input": "2024-07-16T13:28:37.589314Z",
          "iopub.status.idle": "2024-07-16T13:28:37.60742Z",
          "shell.execute_reply.started": "2024-07-16T13:28:37.589254Z",
          "shell.execute_reply": "2024-07-16T13:28:37.605868Z"
        },
        "trusted": true,
        "id": "ONRqs73Vqz8K"
      },
      "execution_count": null,
      "outputs": []
    },
    {
      "cell_type": "code",
      "source": [
        "ann.compile(optimizer = \"adam\", loss = \"categorical_crossentropy\", metrics = [\"accuracy\"])"
      ],
      "metadata": {
        "execution": {
          "iopub.status.busy": "2024-07-16T13:29:12.496245Z",
          "iopub.execute_input": "2024-07-16T13:29:12.496838Z",
          "iopub.status.idle": "2024-07-16T13:29:12.511652Z",
          "shell.execute_reply.started": "2024-07-16T13:29:12.496792Z",
          "shell.execute_reply": "2024-07-16T13:29:12.510052Z"
        },
        "trusted": true,
        "id": "W3aoh5fxqz8K"
      },
      "execution_count": null,
      "outputs": []
    },
    {
      "cell_type": "code",
      "source": [
        "ann.fit(X_train, y_train, batch_size = 128, epochs = 20)"
      ],
      "metadata": {
        "execution": {
          "iopub.status.busy": "2024-07-16T13:29:14.59942Z",
          "iopub.execute_input": "2024-07-16T13:29:14.599981Z",
          "iopub.status.idle": "2024-07-16T13:29:17.352717Z",
          "shell.execute_reply.started": "2024-07-16T13:29:14.599943Z",
          "shell.execute_reply": "2024-07-16T13:29:17.351256Z"
        },
        "trusted": true,
        "id": "C8CkkIhOqz8K"
      },
      "execution_count": null,
      "outputs": []
    },
    {
      "cell_type": "code",
      "source": [
        "pred = ann.predict(X_test)\n",
        "\n",
        "mse = mean_squared_error(y_test,pred)\n",
        "\n",
        "print(\"ANN MSE: \" + str(mse))"
      ],
      "metadata": {
        "execution": {
          "iopub.status.busy": "2024-07-16T13:29:38.855793Z",
          "iopub.execute_input": "2024-07-16T13:29:38.858591Z",
          "iopub.status.idle": "2024-07-16T13:29:39.054594Z",
          "shell.execute_reply.started": "2024-07-16T13:29:38.858503Z",
          "shell.execute_reply": "2024-07-16T13:29:39.052935Z"
        },
        "trusted": true,
        "id": "OCZWbXmXqz8L"
      },
      "execution_count": null,
      "outputs": []
    },
    {
      "cell_type": "markdown",
      "source": [
        "## MLP regressor"
      ],
      "metadata": {
        "id": "JSFFeicmqz8L"
      }
    },
    {
      "cell_type": "code",
      "source": [
        "from sklearn.neural_network import MLPRegressor\n",
        "\n",
        "mlp = MLPRegressor(random_state=42, max_iter=10000, n_iter_no_change=3)\n",
        "\n",
        "mlp.fit(X_train, y_train)\n",
        "\n",
        "pred = mlp.predict(X_test)\n",
        "\n",
        "mse = mean_squared_error(y_test,pred)\n",
        "\n",
        "print(\"MLP regressor MSE: \" + str(mse))"
      ],
      "metadata": {
        "execution": {
          "iopub.status.busy": "2024-07-16T13:32:29.168471Z",
          "iopub.execute_input": "2024-07-16T13:32:29.169191Z",
          "iopub.status.idle": "2024-07-16T13:32:34.117052Z",
          "shell.execute_reply.started": "2024-07-16T13:32:29.169129Z",
          "shell.execute_reply": "2024-07-16T13:32:34.114244Z"
        },
        "trusted": true,
        "id": "RalKQ3hNqz8L"
      },
      "execution_count": null,
      "outputs": []
    },
    {
      "cell_type": "markdown",
      "source": [],
      "metadata": {
        "id": "cRHWyUdHqz8L"
      }
    },
    {
      "cell_type": "markdown",
      "source": [
        "# Submission"
      ],
      "metadata": {
        "id": "RTbNqjV6qz8L"
      }
    },
    {
      "cell_type": "markdown",
      "source": [
        "## Polynomial regression"
      ],
      "metadata": {
        "id": "8iD_rb5Jqz8L"
      }
    },
    {
      "cell_type": "code",
      "source": [
        "X_preprocessed_test = pipeline_fe.fit_transform(df_test)"
      ],
      "metadata": {
        "execution": {
          "iopub.status.busy": "2024-07-16T13:42:48.641211Z",
          "iopub.execute_input": "2024-07-16T13:42:48.641712Z",
          "iopub.status.idle": "2024-07-16T13:42:49.114893Z",
          "shell.execute_reply.started": "2024-07-16T13:42:48.641679Z",
          "shell.execute_reply": "2024-07-16T13:42:49.113107Z"
        },
        "trusted": true,
        "id": "YiMCNK6Zqz8M"
      },
      "execution_count": null,
      "outputs": []
    },
    {
      "cell_type": "code",
      "source": [
        "X_poly_test = poly_reg.fit_transform(X_preprocessed_test)"
      ],
      "metadata": {
        "execution": {
          "iopub.status.busy": "2024-07-16T13:42:58.808578Z",
          "iopub.execute_input": "2024-07-16T13:42:58.809064Z",
          "iopub.status.idle": "2024-07-16T13:42:59.496353Z",
          "shell.execute_reply.started": "2024-07-16T13:42:58.809027Z",
          "shell.execute_reply": "2024-07-16T13:42:59.495079Z"
        },
        "trusted": true,
        "id": "d35i8EJkqz8M"
      },
      "execution_count": null,
      "outputs": []
    },
    {
      "cell_type": "code",
      "source": [
        "pred = lin_reg.predict(X_poly_test)\n",
        "\n",
        "df_stack_out = df_test[['Id']].copy()\n",
        "df_stack_out['SalePrice'] = pred\n",
        "\n",
        "df_stack_out.to_csv('submission_poly_reg.csv', index=False)"
      ],
      "metadata": {
        "execution": {
          "iopub.status.busy": "2024-07-16T13:43:02.397726Z",
          "iopub.execute_input": "2024-07-16T13:43:02.39826Z",
          "iopub.status.idle": "2024-07-16T13:43:02.577109Z",
          "shell.execute_reply.started": "2024-07-16T13:43:02.398222Z",
          "shell.execute_reply": "2024-07-16T13:43:02.57534Z"
        },
        "trusted": true,
        "id": "Yvcm9rWvqz8M"
      },
      "execution_count": null,
      "outputs": []
    }
  ]
}